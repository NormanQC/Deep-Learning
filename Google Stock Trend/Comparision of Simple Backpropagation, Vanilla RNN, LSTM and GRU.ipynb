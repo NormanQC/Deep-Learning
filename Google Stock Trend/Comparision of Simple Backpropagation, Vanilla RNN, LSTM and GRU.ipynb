{
 "cells": [
  {
   "cell_type": "markdown",
   "metadata": {
    "colab_type": "text",
    "id": "uQeBcPe_I5br"
   },
   "source": [
    "# HW2 Comparision of Simple Backpropagation, Vanilla RNN, LSTM and GRU"
   ]
  },
  {
   "cell_type": "markdown",
   "metadata": {
    "colab_type": "text",
    "id": "WZ3x5K8M1aI_"
   },
   "source": [
    "# Part 1 - Data Preprocessing"
   ]
  },
  {
   "cell_type": "code",
   "execution_count": 0,
   "metadata": {
    "colab": {},
    "colab_type": "code",
    "id": "zd02amw6ucJ5"
   },
   "outputs": [],
   "source": [
    "# Importing the libraries\n",
    "import numpy as np\n",
    "import matplotlib.pyplot as plt\n",
    "import pandas as pd"
   ]
  },
  {
   "cell_type": "code",
   "execution_count": 0,
   "metadata": {
    "colab": {},
    "colab_type": "code",
    "id": "ehmSh78yucPx"
   },
   "outputs": [],
   "source": [
    "# Importing the training set\n",
    "dataset_train = pd.read_csv('Google_Stock_Price_Train.csv')\n",
    "training_set = dataset_train.iloc[:, 1:2].values"
   ]
  },
  {
   "cell_type": "code",
   "execution_count": 6,
   "metadata": {
    "colab": {
     "base_uri": "https://localhost:8080/",
     "height": 34
    },
    "colab_type": "code",
    "id": "LbPK6KJL6kOh",
    "outputId": "e611bcae-666d-4cdf-dad3-ebf929e3e34f"
   },
   "outputs": [
    {
     "data": {
      "text/plain": [
       "(1258, 6)"
      ]
     },
     "execution_count": 6,
     "metadata": {
      "tags": []
     },
     "output_type": "execute_result"
    }
   ],
   "source": [
    "dataset_train.shape"
   ]
  },
  {
   "cell_type": "code",
   "execution_count": 0,
   "metadata": {
    "colab": {},
    "colab_type": "code",
    "id": "4WKK-WzLucT9"
   },
   "outputs": [],
   "source": [
    "# Feature Scaling\n",
    "from sklearn.preprocessing import MinMaxScaler\n",
    "sc = MinMaxScaler(feature_range = (0, 1))\n",
    "training_set_scaled = sc.fit_transform(training_set)"
   ]
  },
  {
   "cell_type": "code",
   "execution_count": 0,
   "metadata": {
    "colab": {},
    "colab_type": "code",
    "id": "IY3Vht9Q1Iv6"
   },
   "outputs": [],
   "source": [
    "# Creating a data structure with 60 timesteps and 1 output\n",
    "# one time step will capture every info and end up overfitting, 20-40 is not enough, 60 is a optimal number of timesteps\n",
    "X_train = []\n",
    "y_train = []\n",
    "for i in range(60, 1258):\n",
    "    X_train.append(training_set_scaled[i-60:i, 0])\n",
    "    y_train.append(training_set_scaled[i, 0])\n",
    "X_train, y_train = np.array(X_train), np.array(y_train)"
   ]
  },
  {
   "cell_type": "code",
   "execution_count": 0,
   "metadata": {
    "colab": {},
    "colab_type": "code",
    "id": "LYS8_yjMAnpG"
   },
   "outputs": [],
   "source": [
    "X_train_nn,y_train_nn=X_train, y_train"
   ]
  },
  {
   "cell_type": "code",
   "execution_count": 10,
   "metadata": {
    "colab": {
     "base_uri": "https://localhost:8080/",
     "height": 34
    },
    "colab_type": "code",
    "id": "GztZBx36AUDJ",
    "outputId": "9bc26ea2-888a-4212-f9ed-eb4d52203c96"
   },
   "outputs": [
    {
     "data": {
      "text/plain": [
       "(1198, 60)"
      ]
     },
     "execution_count": 10,
     "metadata": {
      "tags": []
     },
     "output_type": "execute_result"
    }
   ],
   "source": [
    "X_train_nn.shape"
   ]
  },
  {
   "cell_type": "code",
   "execution_count": 0,
   "metadata": {
    "colab": {},
    "colab_type": "code",
    "id": "u0XwrAjP1MUI"
   },
   "outputs": [],
   "source": [
    "# Reshaping\n",
    "X_train = np.reshape(X_train, (X_train.shape[0], X_train.shape[1], 1))"
   ]
  },
  {
   "cell_type": "code",
   "execution_count": 12,
   "metadata": {
    "colab": {
     "base_uri": "https://localhost:8080/",
     "height": 34
    },
    "colab_type": "code",
    "id": "3RMo_RL9NANL",
    "outputId": "0fc51a2e-11d9-45fe-fe7f-a7a7522661ad"
   },
   "outputs": [
    {
     "data": {
      "text/plain": [
       "(1198, 60, 1)"
      ]
     },
     "execution_count": 12,
     "metadata": {
      "tags": []
     },
     "output_type": "execute_result"
    }
   ],
   "source": [
    "X_train.shape"
   ]
  },
  {
   "cell_type": "markdown",
   "metadata": {
    "colab_type": "text",
    "id": "Dbk8Ca0h1O9K"
   },
   "source": [
    "# Part 2 - Building the RNN"
   ]
  },
  {
   "cell_type": "code",
   "execution_count": 0,
   "metadata": {
    "colab": {},
    "colab_type": "code",
    "id": "KsjFImRO1OT_"
   },
   "outputs": [],
   "source": [
    "# Importing the Keras libraries and packages\n",
    "from keras.models import Sequential\n",
    "from keras.layers import Dense\n",
    "from keras.layers import LSTM,SimpleRNN,GRU\n",
    "from keras.layers import Dropout\n",
    "from keras.optimizers import Adam"
   ]
  },
  {
   "cell_type": "code",
   "execution_count": 0,
   "metadata": {
    "colab": {},
    "colab_type": "code",
    "id": "uES8w59Z2uAr"
   },
   "outputs": [],
   "source": [
    "import tensorflow.compat.v1 as tf\n",
    "from tensorflow.python.util import deprecation # ignore tensorflow deprecation warnings\n",
    "deprecation._PRINT_DEPRECATION_WARNINGS = False"
   ]
  },
  {
   "cell_type": "markdown",
   "metadata": {
    "colab_type": "text",
    "id": "KqdgdBAM-HVg"
   },
   "source": [
    "## 2.0 NN with Backpropagation"
   ]
  },
  {
   "cell_type": "code",
   "execution_count": 0,
   "metadata": {
    "colab": {},
    "colab_type": "code",
    "id": "ufVeD_Ft-Qwg"
   },
   "outputs": [],
   "source": [
    "# define the keras model\n",
    "model = Sequential()\n",
    "model.add(Dense(120, input_dim=60, activation='relu'))\n",
    "model.add(Dense(1, activation='sigmoid'))"
   ]
  },
  {
   "cell_type": "code",
   "execution_count": 0,
   "metadata": {
    "colab": {},
    "colab_type": "code",
    "id": "WZIlqbDqBKD3"
   },
   "outputs": [],
   "source": [
    "# compile the keras model\n",
    "model.compile(loss='mean_squared_error', optimizer=Adam(lr=0.002), metrics=['accuracy'])"
   ]
  },
  {
   "cell_type": "code",
   "execution_count": 31,
   "metadata": {
    "colab": {
     "base_uri": "https://localhost:8080/",
     "height": 1000
    },
    "colab_type": "code",
    "id": "Q3hrdXBvBfuK",
    "outputId": "c4e2c0fd-d3be-4d1a-f958-d1ceba761454"
   },
   "outputs": [
    {
     "name": "stdout",
     "output_type": "stream",
     "text": [
      "Epoch 1/100\n",
      "1198/1198 [==============================] - 0s 114us/step - loss: 2.6480e-04 - acc: 0.0017\n",
      "Epoch 2/100\n",
      "1198/1198 [==============================] - 0s 105us/step - loss: 2.8809e-04 - acc: 0.0017\n",
      "Epoch 3/100\n",
      "1198/1198 [==============================] - 0s 112us/step - loss: 3.2319e-04 - acc: 0.0017\n",
      "Epoch 4/100\n",
      "1198/1198 [==============================] - 0s 107us/step - loss: 2.7074e-04 - acc: 0.0017\n",
      "Epoch 5/100\n",
      "1198/1198 [==============================] - 0s 130us/step - loss: 2.8071e-04 - acc: 0.0017\n",
      "Epoch 6/100\n",
      "1198/1198 [==============================] - 0s 112us/step - loss: 3.1319e-04 - acc: 0.0017\n",
      "Epoch 7/100\n",
      "1198/1198 [==============================] - 0s 120us/step - loss: 2.7602e-04 - acc: 0.0017\n",
      "Epoch 8/100\n",
      "1198/1198 [==============================] - 0s 117us/step - loss: 3.3322e-04 - acc: 0.0017\n",
      "Epoch 9/100\n",
      "1198/1198 [==============================] - 0s 120us/step - loss: 3.3164e-04 - acc: 0.0017\n",
      "Epoch 10/100\n",
      "1198/1198 [==============================] - 0s 111us/step - loss: 3.4738e-04 - acc: 0.0017\n",
      "Epoch 11/100\n",
      "1198/1198 [==============================] - 0s 115us/step - loss: 3.0385e-04 - acc: 0.0017\n",
      "Epoch 12/100\n",
      "1198/1198 [==============================] - 0s 121us/step - loss: 2.7118e-04 - acc: 0.0017\n",
      "Epoch 13/100\n",
      "1198/1198 [==============================] - 0s 134us/step - loss: 2.7920e-04 - acc: 0.0017\n",
      "Epoch 14/100\n",
      "1198/1198 [==============================] - 0s 116us/step - loss: 2.7479e-04 - acc: 0.0017\n",
      "Epoch 15/100\n",
      "1198/1198 [==============================] - 0s 121us/step - loss: 2.8969e-04 - acc: 0.0017\n",
      "Epoch 16/100\n",
      "1198/1198 [==============================] - 0s 108us/step - loss: 2.8844e-04 - acc: 0.0017\n",
      "Epoch 17/100\n",
      "1198/1198 [==============================] - 0s 110us/step - loss: 2.8443e-04 - acc: 0.0017\n",
      "Epoch 18/100\n",
      "1198/1198 [==============================] - 0s 114us/step - loss: 3.0562e-04 - acc: 0.0017\n",
      "Epoch 19/100\n",
      "1198/1198 [==============================] - 0s 113us/step - loss: 3.1406e-04 - acc: 0.0017\n",
      "Epoch 20/100\n",
      "1198/1198 [==============================] - 0s 134us/step - loss: 2.7369e-04 - acc: 0.0017\n",
      "Epoch 21/100\n",
      "1198/1198 [==============================] - 0s 124us/step - loss: 2.8060e-04 - acc: 0.0017\n",
      "Epoch 22/100\n",
      "1198/1198 [==============================] - 0s 117us/step - loss: 2.6096e-04 - acc: 0.0017\n",
      "Epoch 23/100\n",
      "1198/1198 [==============================] - 0s 109us/step - loss: 2.7283e-04 - acc: 0.0017\n",
      "Epoch 24/100\n",
      "1198/1198 [==============================] - 0s 113us/step - loss: 2.9564e-04 - acc: 0.0017\n",
      "Epoch 25/100\n",
      "1198/1198 [==============================] - 0s 108us/step - loss: 2.8019e-04 - acc: 0.0017\n",
      "Epoch 26/100\n",
      "1198/1198 [==============================] - 0s 133us/step - loss: 2.6870e-04 - acc: 0.0017\n",
      "Epoch 27/100\n",
      "1198/1198 [==============================] - 0s 126us/step - loss: 2.9803e-04 - acc: 0.0017\n",
      "Epoch 28/100\n",
      "1198/1198 [==============================] - 0s 125us/step - loss: 3.1839e-04 - acc: 0.0017\n",
      "Epoch 29/100\n",
      "1198/1198 [==============================] - 0s 116us/step - loss: 2.7511e-04 - acc: 0.0017\n",
      "Epoch 30/100\n",
      "1198/1198 [==============================] - 0s 129us/step - loss: 2.7184e-04 - acc: 0.0017\n",
      "Epoch 31/100\n",
      "1198/1198 [==============================] - 0s 121us/step - loss: 2.7395e-04 - acc: 0.0017\n",
      "Epoch 32/100\n",
      "1198/1198 [==============================] - 0s 113us/step - loss: 2.6928e-04 - acc: 0.0017\n",
      "Epoch 33/100\n",
      "1198/1198 [==============================] - 0s 114us/step - loss: 2.6622e-04 - acc: 0.0017\n",
      "Epoch 34/100\n",
      "1198/1198 [==============================] - 0s 124us/step - loss: 2.6759e-04 - acc: 0.0017\n",
      "Epoch 35/100\n",
      "1198/1198 [==============================] - 0s 112us/step - loss: 3.4643e-04 - acc: 0.0017\n",
      "Epoch 36/100\n",
      "1198/1198 [==============================] - 0s 114us/step - loss: 3.0084e-04 - acc: 0.0017\n",
      "Epoch 37/100\n",
      "1198/1198 [==============================] - 0s 109us/step - loss: 2.6312e-04 - acc: 0.0017\n",
      "Epoch 38/100\n",
      "1198/1198 [==============================] - 0s 113us/step - loss: 2.6650e-04 - acc: 0.0017\n",
      "Epoch 39/100\n",
      "1198/1198 [==============================] - 0s 114us/step - loss: 2.9654e-04 - acc: 0.0017\n",
      "Epoch 40/100\n",
      "1198/1198 [==============================] - 0s 109us/step - loss: 2.7562e-04 - acc: 0.0017\n",
      "Epoch 41/100\n",
      "1198/1198 [==============================] - 0s 120us/step - loss: 3.1770e-04 - acc: 0.0017\n",
      "Epoch 42/100\n",
      "1198/1198 [==============================] - 0s 110us/step - loss: 3.0122e-04 - acc: 0.0017\n",
      "Epoch 43/100\n",
      "1198/1198 [==============================] - 0s 115us/step - loss: 3.0499e-04 - acc: 0.0017\n",
      "Epoch 44/100\n",
      "1198/1198 [==============================] - 0s 109us/step - loss: 2.7379e-04 - acc: 0.0017\n",
      "Epoch 45/100\n",
      "1198/1198 [==============================] - 0s 114us/step - loss: 2.6519e-04 - acc: 0.0017\n",
      "Epoch 46/100\n",
      "1198/1198 [==============================] - 0s 111us/step - loss: 2.6974e-04 - acc: 0.0017\n",
      "Epoch 47/100\n",
      "1198/1198 [==============================] - 0s 114us/step - loss: 2.6544e-04 - acc: 0.0017\n",
      "Epoch 48/100\n",
      "1198/1198 [==============================] - 0s 112us/step - loss: 3.6312e-04 - acc: 0.0017\n",
      "Epoch 49/100\n",
      "1198/1198 [==============================] - 0s 123us/step - loss: 3.3613e-04 - acc: 0.0017\n",
      "Epoch 50/100\n",
      "1198/1198 [==============================] - 0s 115us/step - loss: 2.7063e-04 - acc: 0.0017\n",
      "Epoch 51/100\n",
      "1198/1198 [==============================] - 0s 112us/step - loss: 2.5350e-04 - acc: 0.0017\n",
      "Epoch 52/100\n",
      "1198/1198 [==============================] - 0s 110us/step - loss: 2.7854e-04 - acc: 0.0017\n",
      "Epoch 53/100\n",
      "1198/1198 [==============================] - 0s 117us/step - loss: 2.5905e-04 - acc: 0.0017\n",
      "Epoch 54/100\n",
      "1198/1198 [==============================] - 0s 124us/step - loss: 2.7202e-04 - acc: 0.0017\n",
      "Epoch 55/100\n",
      "1198/1198 [==============================] - 0s 117us/step - loss: 2.5302e-04 - acc: 0.0017\n",
      "Epoch 56/100\n",
      "1198/1198 [==============================] - 0s 115us/step - loss: 2.6184e-04 - acc: 0.0017\n",
      "Epoch 57/100\n",
      "1198/1198 [==============================] - 0s 111us/step - loss: 2.7768e-04 - acc: 0.0017\n",
      "Epoch 58/100\n",
      "1198/1198 [==============================] - 0s 111us/step - loss: 2.9479e-04 - acc: 0.0017\n",
      "Epoch 59/100\n",
      "1198/1198 [==============================] - 0s 106us/step - loss: 2.7378e-04 - acc: 0.0017\n",
      "Epoch 60/100\n",
      "1198/1198 [==============================] - 0s 105us/step - loss: 2.8883e-04 - acc: 0.0017\n",
      "Epoch 61/100\n",
      "1198/1198 [==============================] - 0s 110us/step - loss: 2.5988e-04 - acc: 0.0017\n",
      "Epoch 62/100\n",
      "1198/1198 [==============================] - 0s 112us/step - loss: 2.9344e-04 - acc: 0.0017\n",
      "Epoch 63/100\n",
      "1198/1198 [==============================] - 0s 112us/step - loss: 3.3649e-04 - acc: 0.0017\n",
      "Epoch 64/100\n",
      "1198/1198 [==============================] - 0s 128us/step - loss: 3.0648e-04 - acc: 0.0017\n",
      "Epoch 65/100\n",
      "1198/1198 [==============================] - 0s 110us/step - loss: 3.6045e-04 - acc: 0.0017\n",
      "Epoch 66/100\n",
      "1198/1198 [==============================] - 0s 110us/step - loss: 2.8999e-04 - acc: 0.0017\n",
      "Epoch 67/100\n",
      "1198/1198 [==============================] - 0s 111us/step - loss: 3.1270e-04 - acc: 0.0017\n",
      "Epoch 68/100\n",
      "1198/1198 [==============================] - 0s 110us/step - loss: 2.7315e-04 - acc: 0.0017\n",
      "Epoch 69/100\n",
      "1198/1198 [==============================] - 0s 110us/step - loss: 3.0747e-04 - acc: 0.0017\n",
      "Epoch 70/100\n",
      "1198/1198 [==============================] - 0s 111us/step - loss: 3.5086e-04 - acc: 0.0017\n",
      "Epoch 71/100\n",
      "1198/1198 [==============================] - 0s 123us/step - loss: 3.0418e-04 - acc: 0.0017\n",
      "Epoch 72/100\n",
      "1198/1198 [==============================] - 0s 113us/step - loss: 2.5985e-04 - acc: 0.0017\n",
      "Epoch 73/100\n",
      "1198/1198 [==============================] - 0s 113us/step - loss: 2.9151e-04 - acc: 0.0017\n",
      "Epoch 74/100\n",
      "1198/1198 [==============================] - 0s 110us/step - loss: 2.6494e-04 - acc: 0.0017\n",
      "Epoch 75/100\n",
      "1198/1198 [==============================] - 0s 113us/step - loss: 3.1734e-04 - acc: 0.0017\n",
      "Epoch 76/100\n",
      "1198/1198 [==============================] - 0s 111us/step - loss: 2.5498e-04 - acc: 0.0017\n",
      "Epoch 77/100\n",
      "1198/1198 [==============================] - 0s 112us/step - loss: 2.7163e-04 - acc: 0.0017\n",
      "Epoch 78/100\n",
      "1198/1198 [==============================] - 0s 111us/step - loss: 2.6790e-04 - acc: 0.0017\n",
      "Epoch 79/100\n",
      "1198/1198 [==============================] - 0s 132us/step - loss: 2.7350e-04 - acc: 0.0017\n",
      "Epoch 80/100\n",
      "1198/1198 [==============================] - 0s 117us/step - loss: 2.4230e-04 - acc: 0.0017\n",
      "Epoch 81/100\n",
      "1198/1198 [==============================] - 0s 120us/step - loss: 2.6242e-04 - acc: 0.0017\n",
      "Epoch 82/100\n",
      "1198/1198 [==============================] - 0s 111us/step - loss: 2.6958e-04 - acc: 0.0017\n",
      "Epoch 83/100\n",
      "1198/1198 [==============================] - 0s 113us/step - loss: 2.6494e-04 - acc: 0.0017\n",
      "Epoch 84/100\n",
      "1198/1198 [==============================] - 0s 110us/step - loss: 2.7753e-04 - acc: 0.0017\n",
      "Epoch 85/100\n",
      "1198/1198 [==============================] - 0s 112us/step - loss: 3.3331e-04 - acc: 0.0017\n",
      "Epoch 86/100\n",
      "1198/1198 [==============================] - 0s 117us/step - loss: 2.5634e-04 - acc: 0.0017\n",
      "Epoch 87/100\n",
      "1198/1198 [==============================] - 0s 113us/step - loss: 2.7550e-04 - acc: 0.0017\n",
      "Epoch 88/100\n",
      "1198/1198 [==============================] - 0s 114us/step - loss: 3.2600e-04 - acc: 0.0017\n",
      "Epoch 89/100\n",
      "1198/1198 [==============================] - 0s 109us/step - loss: 2.8175e-04 - acc: 0.0017\n",
      "Epoch 90/100\n",
      "1198/1198 [==============================] - 0s 107us/step - loss: 3.4876e-04 - acc: 0.0017\n",
      "Epoch 91/100\n",
      "1198/1198 [==============================] - 0s 113us/step - loss: 2.5736e-04 - acc: 0.0017\n",
      "Epoch 92/100\n",
      "1198/1198 [==============================] - 0s 109us/step - loss: 3.0405e-04 - acc: 0.0017\n",
      "Epoch 93/100\n",
      "1198/1198 [==============================] - 0s 115us/step - loss: 3.1059e-04 - acc: 0.0017\n",
      "Epoch 94/100\n",
      "1198/1198 [==============================] - 0s 115us/step - loss: 2.6861e-04 - acc: 0.0017\n",
      "Epoch 95/100\n",
      "1198/1198 [==============================] - 0s 111us/step - loss: 2.7782e-04 - acc: 0.0017\n",
      "Epoch 96/100\n",
      "1198/1198 [==============================] - 0s 126us/step - loss: 2.5211e-04 - acc: 0.0017\n",
      "Epoch 97/100\n",
      "1198/1198 [==============================] - 0s 115us/step - loss: 2.8124e-04 - acc: 0.0017\n",
      "Epoch 98/100\n",
      "1198/1198 [==============================] - 0s 116us/step - loss: 2.7393e-04 - acc: 0.0017\n",
      "Epoch 99/100\n",
      "1198/1198 [==============================] - 0s 119us/step - loss: 2.5727e-04 - acc: 0.0017\n",
      "Epoch 100/100\n",
      "1198/1198 [==============================] - 0s 137us/step - loss: 2.9877e-04 - acc: 0.0017\n"
     ]
    },
    {
     "data": {
      "text/plain": [
       "<keras.callbacks.History at 0x7fa7f049ba90>"
      ]
     },
     "execution_count": 31,
     "metadata": {
      "tags": []
     },
     "output_type": "execute_result"
    }
   ],
   "source": [
    "# fit the keras model on the dataset\n",
    "hist_nn = model.fit(X_train_nn, y_train_nn, epochs=100, batch_size=32)\n",
    "hist_nn"
   ]
  },
  {
   "cell_type": "code",
   "execution_count": 0,
   "metadata": {
    "colab": {},
    "colab_type": "code",
    "id": "8K99IrjVIWMC"
   },
   "outputs": [],
   "source": [
    "loss_nn = hist_nn.history['loss']"
   ]
  },
  {
   "cell_type": "markdown",
   "metadata": {
    "colab_type": "text",
    "id": "33tlCYosWbYe"
   },
   "source": [
    "## 2.1 Simple RNN"
   ]
  },
  {
   "cell_type": "code",
   "execution_count": 33,
   "metadata": {
    "colab": {
     "base_uri": "https://localhost:8080/",
     "height": 1000
    },
    "colab_type": "code",
    "id": "3zK3jkU9WhVy",
    "outputId": "badcc9b2-d64b-45c9-8f54-0def69350077"
   },
   "outputs": [
    {
     "name": "stdout",
     "output_type": "stream",
     "text": [
      "WARNING:tensorflow:From /usr/local/lib/python3.6/dist-packages/keras/backend/tensorflow_backend.py:148: The name tf.placeholder_with_default is deprecated. Please use tf.compat.v1.placeholder_with_default instead.\n",
      "\n",
      "Epoch 1/100\n",
      "1198/1198 [==============================] - 7s 6ms/step - loss: 0.4281\n",
      "Epoch 2/100\n",
      "1198/1198 [==============================] - 6s 5ms/step - loss: 0.2549\n",
      "Epoch 3/100\n",
      "1198/1198 [==============================] - 6s 5ms/step - loss: 0.1846\n",
      "Epoch 4/100\n",
      "1198/1198 [==============================] - 6s 5ms/step - loss: 0.1460\n",
      "Epoch 5/100\n",
      "1198/1198 [==============================] - 6s 5ms/step - loss: 0.1142\n",
      "Epoch 6/100\n",
      "1198/1198 [==============================] - 6s 5ms/step - loss: 0.0883\n",
      "Epoch 7/100\n",
      "1198/1198 [==============================] - 6s 5ms/step - loss: 0.0823\n",
      "Epoch 8/100\n",
      "1198/1198 [==============================] - 6s 5ms/step - loss: 0.0615\n",
      "Epoch 9/100\n",
      "1198/1198 [==============================] - 6s 5ms/step - loss: 0.0491\n",
      "Epoch 10/100\n",
      "1198/1198 [==============================] - 6s 5ms/step - loss: 0.0457\n",
      "Epoch 11/100\n",
      "1198/1198 [==============================] - 6s 5ms/step - loss: 0.0400\n",
      "Epoch 12/100\n",
      "1198/1198 [==============================] - 6s 5ms/step - loss: 0.0379\n",
      "Epoch 13/100\n",
      "1198/1198 [==============================] - 6s 5ms/step - loss: 0.0314\n",
      "Epoch 14/100\n",
      "1198/1198 [==============================] - 6s 5ms/step - loss: 0.0280\n",
      "Epoch 15/100\n",
      "1198/1198 [==============================] - 6s 5ms/step - loss: 0.0259\n",
      "Epoch 16/100\n",
      "1198/1198 [==============================] - 6s 5ms/step - loss: 0.0223\n",
      "Epoch 17/100\n",
      "1198/1198 [==============================] - 6s 5ms/step - loss: 0.0196\n",
      "Epoch 18/100\n",
      "1198/1198 [==============================] - 6s 5ms/step - loss: 0.0177\n",
      "Epoch 19/100\n",
      "1198/1198 [==============================] - 6s 5ms/step - loss: 0.0164\n",
      "Epoch 20/100\n",
      "1198/1198 [==============================] - 6s 5ms/step - loss: 0.0169\n",
      "Epoch 21/100\n",
      "1198/1198 [==============================] - 6s 5ms/step - loss: 0.0150\n",
      "Epoch 22/100\n",
      "1198/1198 [==============================] - 6s 5ms/step - loss: 0.0157\n",
      "Epoch 23/100\n",
      "1198/1198 [==============================] - 6s 5ms/step - loss: 0.0118\n",
      "Epoch 24/100\n",
      "1198/1198 [==============================] - 6s 5ms/step - loss: 0.0132\n",
      "Epoch 25/100\n",
      "1198/1198 [==============================] - 6s 5ms/step - loss: 0.0111\n",
      "Epoch 26/100\n",
      "1198/1198 [==============================] - 6s 5ms/step - loss: 0.0108\n",
      "Epoch 27/100\n",
      "1198/1198 [==============================] - 6s 5ms/step - loss: 0.0108\n",
      "Epoch 28/100\n",
      "1198/1198 [==============================] - 6s 5ms/step - loss: 0.0098\n",
      "Epoch 29/100\n",
      "1198/1198 [==============================] - 6s 5ms/step - loss: 0.0091\n",
      "Epoch 30/100\n",
      "1198/1198 [==============================] - 6s 5ms/step - loss: 0.0079\n",
      "Epoch 31/100\n",
      "1198/1198 [==============================] - 6s 5ms/step - loss: 0.0088\n",
      "Epoch 32/100\n",
      "1198/1198 [==============================] - 6s 5ms/step - loss: 0.0080\n",
      "Epoch 33/100\n",
      "1198/1198 [==============================] - 6s 5ms/step - loss: 0.0071\n",
      "Epoch 34/100\n",
      "1198/1198 [==============================] - 6s 5ms/step - loss: 0.0069\n",
      "Epoch 35/100\n",
      "1198/1198 [==============================] - 6s 5ms/step - loss: 0.0067\n",
      "Epoch 36/100\n",
      "1198/1198 [==============================] - 6s 5ms/step - loss: 0.0061\n",
      "Epoch 37/100\n",
      "1198/1198 [==============================] - 6s 5ms/step - loss: 0.0059\n",
      "Epoch 38/100\n",
      "1198/1198 [==============================] - 6s 5ms/step - loss: 0.0061\n",
      "Epoch 39/100\n",
      "1198/1198 [==============================] - 6s 5ms/step - loss: 0.0060\n",
      "Epoch 40/100\n",
      "1198/1198 [==============================] - 6s 5ms/step - loss: 0.0052\n",
      "Epoch 41/100\n",
      "1198/1198 [==============================] - 6s 5ms/step - loss: 0.0047\n",
      "Epoch 42/100\n",
      "1198/1198 [==============================] - 6s 5ms/step - loss: 0.0050\n",
      "Epoch 43/100\n",
      "1198/1198 [==============================] - 6s 5ms/step - loss: 0.0051\n",
      "Epoch 44/100\n",
      "1198/1198 [==============================] - 6s 5ms/step - loss: 0.0051\n",
      "Epoch 45/100\n",
      "1198/1198 [==============================] - 6s 5ms/step - loss: 0.0047\n",
      "Epoch 46/100\n",
      "1198/1198 [==============================] - 7s 5ms/step - loss: 0.0045\n",
      "Epoch 47/100\n",
      "1198/1198 [==============================] - 6s 5ms/step - loss: 0.0049\n",
      "Epoch 48/100\n",
      "1198/1198 [==============================] - 6s 5ms/step - loss: 0.0040\n",
      "Epoch 49/100\n",
      "1198/1198 [==============================] - 6s 5ms/step - loss: 0.0042\n",
      "Epoch 50/100\n",
      "1198/1198 [==============================] - 6s 5ms/step - loss: 0.0039\n",
      "Epoch 51/100\n",
      "1198/1198 [==============================] - 6s 5ms/step - loss: 0.0035\n",
      "Epoch 52/100\n",
      "1198/1198 [==============================] - 6s 5ms/step - loss: 0.0040\n",
      "Epoch 53/100\n",
      "1198/1198 [==============================] - 6s 5ms/step - loss: 0.0042\n",
      "Epoch 54/100\n",
      "1198/1198 [==============================] - 6s 5ms/step - loss: 0.0038\n",
      "Epoch 55/100\n",
      "1198/1198 [==============================] - 6s 5ms/step - loss: 0.0039\n",
      "Epoch 56/100\n",
      "1198/1198 [==============================] - 6s 5ms/step - loss: 0.0036\n",
      "Epoch 57/100\n",
      "1198/1198 [==============================] - 6s 5ms/step - loss: 0.0038\n",
      "Epoch 58/100\n",
      "1198/1198 [==============================] - 6s 5ms/step - loss: 0.0033\n",
      "Epoch 59/100\n",
      "1198/1198 [==============================] - 6s 5ms/step - loss: 0.0036\n",
      "Epoch 60/100\n",
      "1198/1198 [==============================] - 6s 5ms/step - loss: 0.0037\n",
      "Epoch 61/100\n",
      "1198/1198 [==============================] - 6s 5ms/step - loss: 0.0029\n",
      "Epoch 62/100\n",
      "1198/1198 [==============================] - 6s 5ms/step - loss: 0.0028\n",
      "Epoch 63/100\n",
      "1198/1198 [==============================] - 6s 5ms/step - loss: 0.0029\n",
      "Epoch 64/100\n",
      "1198/1198 [==============================] - 7s 5ms/step - loss: 0.0030\n",
      "Epoch 65/100\n",
      "1198/1198 [==============================] - 6s 5ms/step - loss: 0.0028\n",
      "Epoch 66/100\n",
      "1198/1198 [==============================] - 6s 5ms/step - loss: 0.0027\n",
      "Epoch 67/100\n",
      "1198/1198 [==============================] - 6s 5ms/step - loss: 0.0031\n",
      "Epoch 68/100\n",
      "1198/1198 [==============================] - 6s 5ms/step - loss: 0.0027\n",
      "Epoch 69/100\n",
      "1198/1198 [==============================] - 6s 5ms/step - loss: 0.0033\n",
      "Epoch 70/100\n",
      "1198/1198 [==============================] - 6s 5ms/step - loss: 0.0029\n",
      "Epoch 71/100\n",
      "1198/1198 [==============================] - 6s 5ms/step - loss: 0.0026\n",
      "Epoch 72/100\n",
      "1198/1198 [==============================] - 6s 5ms/step - loss: 0.0026\n",
      "Epoch 73/100\n",
      "1198/1198 [==============================] - 6s 5ms/step - loss: 0.0027\n",
      "Epoch 74/100\n",
      "1198/1198 [==============================] - 6s 5ms/step - loss: 0.0027\n",
      "Epoch 75/100\n",
      "1198/1198 [==============================] - 6s 5ms/step - loss: 0.0023\n",
      "Epoch 76/100\n",
      "1198/1198 [==============================] - 7s 6ms/step - loss: 0.0023\n",
      "Epoch 77/100\n",
      "1198/1198 [==============================] - 7s 6ms/step - loss: 0.0022\n",
      "Epoch 78/100\n",
      "1198/1198 [==============================] - 6s 5ms/step - loss: 0.0023\n",
      "Epoch 79/100\n",
      "1198/1198 [==============================] - 6s 5ms/step - loss: 0.0025\n",
      "Epoch 80/100\n",
      "1198/1198 [==============================] - 6s 5ms/step - loss: 0.0022\n",
      "Epoch 81/100\n",
      "1198/1198 [==============================] - 7s 6ms/step - loss: 0.0023\n",
      "Epoch 82/100\n",
      "1198/1198 [==============================] - 6s 5ms/step - loss: 0.0022\n",
      "Epoch 83/100\n",
      "1198/1198 [==============================] - 6s 5ms/step - loss: 0.0023\n",
      "Epoch 84/100\n",
      "1198/1198 [==============================] - 6s 5ms/step - loss: 0.0022\n",
      "Epoch 85/100\n",
      "1198/1198 [==============================] - 6s 5ms/step - loss: 0.0021\n",
      "Epoch 86/100\n",
      "1198/1198 [==============================] - 6s 5ms/step - loss: 0.0020\n",
      "Epoch 87/100\n",
      "1198/1198 [==============================] - 6s 5ms/step - loss: 0.0021\n",
      "Epoch 88/100\n",
      "1198/1198 [==============================] - 6s 5ms/step - loss: 0.0023\n",
      "Epoch 89/100\n",
      "1198/1198 [==============================] - 6s 5ms/step - loss: 0.0024\n",
      "Epoch 90/100\n",
      "1198/1198 [==============================] - 6s 5ms/step - loss: 0.0021\n",
      "Epoch 91/100\n",
      "1198/1198 [==============================] - 7s 6ms/step - loss: 0.0021\n",
      "Epoch 92/100\n",
      "1198/1198 [==============================] - 7s 6ms/step - loss: 0.0020\n",
      "Epoch 93/100\n",
      "1198/1198 [==============================] - 7s 5ms/step - loss: 0.0019\n",
      "Epoch 94/100\n",
      "1198/1198 [==============================] - 6s 5ms/step - loss: 0.0020\n",
      "Epoch 95/100\n",
      "1198/1198 [==============================] - 6s 5ms/step - loss: 0.0018\n",
      "Epoch 96/100\n",
      "1198/1198 [==============================] - 6s 5ms/step - loss: 0.0022\n",
      "Epoch 97/100\n",
      "1198/1198 [==============================] - 7s 6ms/step - loss: 0.0020\n",
      "Epoch 98/100\n",
      "1198/1198 [==============================] - 7s 6ms/step - loss: 0.0017\n",
      "Epoch 99/100\n",
      "1198/1198 [==============================] - 6s 5ms/step - loss: 0.0019\n",
      "Epoch 100/100\n",
      "1198/1198 [==============================] - 6s 5ms/step - loss: 0.0019\n"
     ]
    },
    {
     "data": {
      "text/plain": [
       "<keras.callbacks.History at 0x7fa7f02b1f60>"
      ]
     },
     "execution_count": 33,
     "metadata": {
      "tags": []
     },
     "output_type": "execute_result"
    }
   ],
   "source": [
    "# Initialising the RNN\n",
    "regressor_rnn = Sequential()\n",
    "# Adding the first SimpleRNN layer and some Dropout regularisation\n",
    "regressor_rnn.add(SimpleRNN(units = 50, return_sequences = True, input_shape = (X_train.shape[1], 1)))\n",
    "regressor_rnn.add(Dropout(0.2))\n",
    "# Adding a second SimpleRNN layer and some Dropout regularisation\n",
    "regressor_rnn.add(SimpleRNN(units = 50, return_sequences = True))\n",
    "regressor_rnn.add(Dropout(0.2))\n",
    "# Adding a third SimpleRNN layer and some Dropout regularisation\n",
    "regressor_rnn.add(SimpleRNN(units = 50, return_sequences = True))\n",
    "regressor_rnn.add(Dropout(0.2))\n",
    "# Adding a fourth SimpleRNN layer and some Dropout regularisation\n",
    "regressor_rnn.add(SimpleRNN(units = 50))\n",
    "regressor_rnn.add(Dropout(0.2))\n",
    "# Adding the output layer\n",
    "regressor_rnn.add(Dense(units = 1))\n",
    "# Compiling the RNN\n",
    "regressor_rnn.compile(optimizer = 'adam', loss = 'mean_squared_error')\n",
    "# Fitting the RNN to the Training set\n",
    "hist_rnn=regressor_rnn.fit(X_train, y_train, epochs = 100, batch_size = 32)\n",
    "hist_rnn"
   ]
  },
  {
   "cell_type": "code",
   "execution_count": 0,
   "metadata": {
    "colab": {},
    "colab_type": "code",
    "id": "E1xy7Af7YDUQ"
   },
   "outputs": [],
   "source": [
    "loss_rnn = hist_rnn.history['loss']"
   ]
  },
  {
   "cell_type": "markdown",
   "metadata": {
    "colab_type": "text",
    "id": "ZUXYX7qvWSEn"
   },
   "source": [
    "## 2.2 LSTM"
   ]
  },
  {
   "cell_type": "code",
   "execution_count": 35,
   "metadata": {
    "colab": {
     "base_uri": "https://localhost:8080/",
     "height": 1000
    },
    "colab_type": "code",
    "id": "_4pWm6-x1Utd",
    "outputId": "72a839c4-771e-4b41-f423-5e6b46fd77e7"
   },
   "outputs": [
    {
     "name": "stdout",
     "output_type": "stream",
     "text": [
      "Epoch 1/100\n",
      "1198/1198 [==============================] - 19s 16ms/step - loss: 0.0612\n",
      "Epoch 2/100\n",
      "1198/1198 [==============================] - 17s 14ms/step - loss: 0.0065\n",
      "Epoch 3/100\n",
      "1198/1198 [==============================] - 17s 14ms/step - loss: 0.0057\n",
      "Epoch 4/100\n",
      "1198/1198 [==============================] - 17s 14ms/step - loss: 0.0058\n",
      "Epoch 5/100\n",
      "1198/1198 [==============================] - 17s 14ms/step - loss: 0.0052\n",
      "Epoch 6/100\n",
      "1198/1198 [==============================] - 17s 14ms/step - loss: 0.0047\n",
      "Epoch 7/100\n",
      "1198/1198 [==============================] - 17s 14ms/step - loss: 0.0044\n",
      "Epoch 8/100\n",
      "1198/1198 [==============================] - 17s 14ms/step - loss: 0.0045\n",
      "Epoch 9/100\n",
      "1198/1198 [==============================] - 16s 14ms/step - loss: 0.0043\n",
      "Epoch 10/100\n",
      "1198/1198 [==============================] - 16s 14ms/step - loss: 0.0044\n",
      "Epoch 11/100\n",
      "1198/1198 [==============================] - 17s 14ms/step - loss: 0.0042\n",
      "Epoch 12/100\n",
      "1198/1198 [==============================] - 17s 14ms/step - loss: 0.0044\n",
      "Epoch 13/100\n",
      "1198/1198 [==============================] - 17s 14ms/step - loss: 0.0040\n",
      "Epoch 14/100\n",
      "1198/1198 [==============================] - 16s 14ms/step - loss: 0.0041\n",
      "Epoch 15/100\n",
      "1198/1198 [==============================] - 17s 14ms/step - loss: 0.0041\n",
      "Epoch 16/100\n",
      "1198/1198 [==============================] - 17s 14ms/step - loss: 0.0039\n",
      "Epoch 17/100\n",
      "1198/1198 [==============================] - 16s 14ms/step - loss: 0.0036\n",
      "Epoch 18/100\n",
      "1198/1198 [==============================] - 17s 14ms/step - loss: 0.0041\n",
      "Epoch 19/100\n",
      "1198/1198 [==============================] - 17s 14ms/step - loss: 0.0034\n",
      "Epoch 20/100\n",
      "1198/1198 [==============================] - 17s 14ms/step - loss: 0.0035\n",
      "Epoch 21/100\n",
      "1198/1198 [==============================] - 16s 14ms/step - loss: 0.0034\n",
      "Epoch 22/100\n",
      "1198/1198 [==============================] - 17s 14ms/step - loss: 0.0036\n",
      "Epoch 23/100\n",
      "1198/1198 [==============================] - 16s 14ms/step - loss: 0.0040\n",
      "Epoch 24/100\n",
      "1198/1198 [==============================] - 16s 14ms/step - loss: 0.0031\n",
      "Epoch 25/100\n",
      "1198/1198 [==============================] - 17s 14ms/step - loss: 0.0038\n",
      "Epoch 26/100\n",
      "1198/1198 [==============================] - 17s 14ms/step - loss: 0.0034\n",
      "Epoch 27/100\n",
      "1198/1198 [==============================] - 17s 14ms/step - loss: 0.0032\n",
      "Epoch 28/100\n",
      "1198/1198 [==============================] - 17s 14ms/step - loss: 0.0028\n",
      "Epoch 29/100\n",
      "1198/1198 [==============================] - 17s 14ms/step - loss: 0.0031\n",
      "Epoch 30/100\n",
      "1198/1198 [==============================] - 17s 14ms/step - loss: 0.0031\n",
      "Epoch 31/100\n",
      "1198/1198 [==============================] - 17s 14ms/step - loss: 0.0030\n",
      "Epoch 32/100\n",
      "1198/1198 [==============================] - 17s 14ms/step - loss: 0.0027\n",
      "Epoch 33/100\n",
      "1198/1198 [==============================] - 17s 14ms/step - loss: 0.0032\n",
      "Epoch 34/100\n",
      "1198/1198 [==============================] - 17s 14ms/step - loss: 0.0027\n",
      "Epoch 35/100\n",
      "1198/1198 [==============================] - 17s 14ms/step - loss: 0.0026\n",
      "Epoch 36/100\n",
      "1198/1198 [==============================] - 17s 14ms/step - loss: 0.0027\n",
      "Epoch 37/100\n",
      "1198/1198 [==============================] - 17s 14ms/step - loss: 0.0028\n",
      "Epoch 38/100\n",
      "1198/1198 [==============================] - 17s 14ms/step - loss: 0.0029\n",
      "Epoch 39/100\n",
      "1198/1198 [==============================] - 17s 14ms/step - loss: 0.0030\n",
      "Epoch 40/100\n",
      "1198/1198 [==============================] - 17s 14ms/step - loss: 0.0026\n",
      "Epoch 41/100\n",
      "1198/1198 [==============================] - 17s 14ms/step - loss: 0.0025\n",
      "Epoch 42/100\n",
      "1198/1198 [==============================] - 17s 14ms/step - loss: 0.0027\n",
      "Epoch 43/100\n",
      "1198/1198 [==============================] - 17s 14ms/step - loss: 0.0025\n",
      "Epoch 44/100\n",
      "1198/1198 [==============================] - 17s 14ms/step - loss: 0.0025\n",
      "Epoch 45/100\n",
      "1198/1198 [==============================] - 17s 14ms/step - loss: 0.0027\n",
      "Epoch 46/100\n",
      "1198/1198 [==============================] - 17s 14ms/step - loss: 0.0023\n",
      "Epoch 47/100\n",
      "1198/1198 [==============================] - 17s 14ms/step - loss: 0.0024\n",
      "Epoch 48/100\n",
      "1198/1198 [==============================] - 17s 14ms/step - loss: 0.0024\n",
      "Epoch 49/100\n",
      "1198/1198 [==============================] - 17s 14ms/step - loss: 0.0029\n",
      "Epoch 50/100\n",
      "1198/1198 [==============================] - 17s 14ms/step - loss: 0.0025\n",
      "Epoch 51/100\n",
      "1198/1198 [==============================] - 17s 14ms/step - loss: 0.0030\n",
      "Epoch 52/100\n",
      "1198/1198 [==============================] - 16s 14ms/step - loss: 0.0022\n",
      "Epoch 53/100\n",
      "1198/1198 [==============================] - 16s 14ms/step - loss: 0.0022\n",
      "Epoch 54/100\n",
      "1198/1198 [==============================] - 17s 14ms/step - loss: 0.0022\n",
      "Epoch 55/100\n",
      "1198/1198 [==============================] - 16s 14ms/step - loss: 0.0023\n",
      "Epoch 56/100\n",
      "1198/1198 [==============================] - 17s 14ms/step - loss: 0.0022\n",
      "Epoch 57/100\n",
      "1198/1198 [==============================] - 17s 14ms/step - loss: 0.0024\n",
      "Epoch 58/100\n",
      "1198/1198 [==============================] - 17s 14ms/step - loss: 0.0022\n",
      "Epoch 59/100\n",
      "1198/1198 [==============================] - 17s 14ms/step - loss: 0.0022\n",
      "Epoch 60/100\n",
      "1198/1198 [==============================] - 16s 14ms/step - loss: 0.0021\n",
      "Epoch 61/100\n",
      "1198/1198 [==============================] - 17s 14ms/step - loss: 0.0019\n",
      "Epoch 62/100\n",
      "1198/1198 [==============================] - 17s 14ms/step - loss: 0.0021\n",
      "Epoch 63/100\n",
      "1198/1198 [==============================] - 17s 14ms/step - loss: 0.0020\n",
      "Epoch 64/100\n",
      "1198/1198 [==============================] - 17s 14ms/step - loss: 0.0020\n",
      "Epoch 65/100\n",
      "1198/1198 [==============================] - 17s 14ms/step - loss: 0.0018\n",
      "Epoch 66/100\n",
      "1198/1198 [==============================] - 17s 14ms/step - loss: 0.0019\n",
      "Epoch 67/100\n",
      "1198/1198 [==============================] - 17s 14ms/step - loss: 0.0020\n",
      "Epoch 68/100\n",
      "1198/1198 [==============================] - 17s 14ms/step - loss: 0.0020\n",
      "Epoch 69/100\n",
      "1198/1198 [==============================] - 17s 14ms/step - loss: 0.0017\n",
      "Epoch 70/100\n",
      "1198/1198 [==============================] - 17s 14ms/step - loss: 0.0019\n",
      "Epoch 71/100\n",
      "1198/1198 [==============================] - 17s 14ms/step - loss: 0.0019\n",
      "Epoch 72/100\n",
      "1198/1198 [==============================] - 17s 14ms/step - loss: 0.0018\n",
      "Epoch 73/100\n",
      "1198/1198 [==============================] - 17s 14ms/step - loss: 0.0019\n",
      "Epoch 74/100\n",
      "1198/1198 [==============================] - 17s 14ms/step - loss: 0.0018\n",
      "Epoch 75/100\n",
      "1198/1198 [==============================] - 16s 14ms/step - loss: 0.0018\n",
      "Epoch 76/100\n",
      "1198/1198 [==============================] - 17s 14ms/step - loss: 0.0019\n",
      "Epoch 77/100\n",
      "1198/1198 [==============================] - 17s 14ms/step - loss: 0.0017\n",
      "Epoch 78/100\n",
      "1198/1198 [==============================] - 17s 14ms/step - loss: 0.0017\n",
      "Epoch 79/100\n",
      "1198/1198 [==============================] - 16s 14ms/step - loss: 0.0017\n",
      "Epoch 80/100\n",
      "1198/1198 [==============================] - 16s 14ms/step - loss: 0.0016\n",
      "Epoch 81/100\n",
      "1198/1198 [==============================] - 17s 14ms/step - loss: 0.0017\n",
      "Epoch 82/100\n",
      "1198/1198 [==============================] - 16s 14ms/step - loss: 0.0017\n",
      "Epoch 83/100\n",
      "1198/1198 [==============================] - 16s 14ms/step - loss: 0.0016\n",
      "Epoch 84/100\n",
      "1198/1198 [==============================] - 17s 14ms/step - loss: 0.0017\n",
      "Epoch 85/100\n",
      "1198/1198 [==============================] - 17s 14ms/step - loss: 0.0018\n",
      "Epoch 86/100\n",
      "1198/1198 [==============================] - 17s 14ms/step - loss: 0.0015\n",
      "Epoch 87/100\n",
      "1198/1198 [==============================] - 17s 14ms/step - loss: 0.0016\n",
      "Epoch 88/100\n",
      "1198/1198 [==============================] - 17s 14ms/step - loss: 0.0016\n",
      "Epoch 89/100\n",
      "1198/1198 [==============================] - 16s 14ms/step - loss: 0.0017\n",
      "Epoch 90/100\n",
      "1198/1198 [==============================] - 17s 14ms/step - loss: 0.0018\n",
      "Epoch 91/100\n",
      "1198/1198 [==============================] - 17s 14ms/step - loss: 0.0016\n",
      "Epoch 92/100\n",
      "1198/1198 [==============================] - 17s 14ms/step - loss: 0.0017\n",
      "Epoch 93/100\n",
      "1198/1198 [==============================] - 17s 14ms/step - loss: 0.0016\n",
      "Epoch 94/100\n",
      "1198/1198 [==============================] - 17s 14ms/step - loss: 0.0017\n",
      "Epoch 95/100\n",
      "1198/1198 [==============================] - 17s 14ms/step - loss: 0.0013\n",
      "Epoch 96/100\n",
      "1198/1198 [==============================] - 17s 14ms/step - loss: 0.0013\n",
      "Epoch 97/100\n",
      "1198/1198 [==============================] - 17s 14ms/step - loss: 0.0013\n",
      "Epoch 98/100\n",
      "1198/1198 [==============================] - 17s 14ms/step - loss: 0.0015\n",
      "Epoch 99/100\n",
      "1198/1198 [==============================] - 17s 14ms/step - loss: 0.0014\n",
      "Epoch 100/100\n",
      "1198/1198 [==============================] - 17s 14ms/step - loss: 0.0015\n"
     ]
    },
    {
     "data": {
      "text/plain": [
       "<keras.callbacks.History at 0x7fa7aeb48ef0>"
      ]
     },
     "execution_count": 35,
     "metadata": {
      "tags": []
     },
     "output_type": "execute_result"
    }
   ],
   "source": [
    "# Initialising the RNN\n",
    "regressor_lstm = Sequential()\n",
    "# Adding the first LSTM layer and some Dropout regularisation\n",
    "regressor_lstm.add(LSTM(units = 50, return_sequences = True, input_shape = (X_train.shape[1], 1)))\n",
    "regressor_lstm.add(Dropout(0.2))\n",
    "# Adding a second LSTM layer and some Dropout regularisation\n",
    "regressor_lstm.add(LSTM(units = 50, return_sequences = True))\n",
    "regressor_lstm.add(Dropout(0.2))\n",
    "# Adding a third LSTM layer and some Dropout regularisation\n",
    "regressor_lstm.add(LSTM(units = 50, return_sequences = True))\n",
    "regressor_lstm.add(Dropout(0.2))\n",
    "# Adding a fourth LSTM layer and some Dropout regularisation\n",
    "regressor_lstm.add(LSTM(units = 50))\n",
    "regressor_lstm.add(Dropout(0.2))\n",
    "# Adding the output layer\n",
    "regressor_lstm.add(Dense(units = 1))\n",
    "# Compiling the RNN\n",
    "regressor_lstm.compile(optimizer = 'adam', loss = 'mean_squared_error')\n",
    "# Fitting the RNN to the Training set\n",
    "hist_lstm = regressor_lstm.fit(X_train, y_train, epochs = 100, batch_size = 32)\n",
    "hist_lstm"
   ]
  },
  {
   "cell_type": "code",
   "execution_count": 0,
   "metadata": {
    "colab": {},
    "colab_type": "code",
    "id": "Rlw5oqlMbFY1"
   },
   "outputs": [],
   "source": [
    "loss_lstm = hist_lstm.history['loss']"
   ]
  },
  {
   "cell_type": "markdown",
   "metadata": {
    "colab_type": "text",
    "id": "igfH2GZ1FsKp"
   },
   "source": [
    "## 2.3 GRU"
   ]
  },
  {
   "cell_type": "code",
   "execution_count": 37,
   "metadata": {
    "colab": {
     "base_uri": "https://localhost:8080/",
     "height": 1000
    },
    "colab_type": "code",
    "id": "MeUwnI4FF3hm",
    "outputId": "b8b8c595-3786-44ce-9ac3-f4d3cb05ae22"
   },
   "outputs": [
    {
     "name": "stdout",
     "output_type": "stream",
     "text": [
      "Epoch 1/100\n",
      "1198/1198 [==============================] - 17s 14ms/step - loss: 0.0482\n",
      "Epoch 2/100\n",
      "1198/1198 [==============================] - 14s 12ms/step - loss: 0.0063\n",
      "Epoch 3/100\n",
      "1198/1198 [==============================] - 14s 12ms/step - loss: 0.0051\n",
      "Epoch 4/100\n",
      "1198/1198 [==============================] - 14s 12ms/step - loss: 0.0049\n",
      "Epoch 5/100\n",
      "1198/1198 [==============================] - 14s 12ms/step - loss: 0.0045\n",
      "Epoch 6/100\n",
      "1198/1198 [==============================] - 14s 12ms/step - loss: 0.0046\n",
      "Epoch 7/100\n",
      "1198/1198 [==============================] - 14s 12ms/step - loss: 0.0048\n",
      "Epoch 8/100\n",
      "1198/1198 [==============================] - 14s 12ms/step - loss: 0.0042\n",
      "Epoch 9/100\n",
      "1198/1198 [==============================] - 14s 12ms/step - loss: 0.0044\n",
      "Epoch 10/100\n",
      "1198/1198 [==============================] - 14s 12ms/step - loss: 0.0035\n",
      "Epoch 11/100\n",
      "1198/1198 [==============================] - 14s 12ms/step - loss: 0.0031\n",
      "Epoch 12/100\n",
      "1198/1198 [==============================] - 14s 12ms/step - loss: 0.0033\n",
      "Epoch 13/100\n",
      "1198/1198 [==============================] - 14s 12ms/step - loss: 0.0033\n",
      "Epoch 14/100\n",
      "1198/1198 [==============================] - 14s 12ms/step - loss: 0.0034\n",
      "Epoch 15/100\n",
      "1198/1198 [==============================] - 14s 12ms/step - loss: 0.0029\n",
      "Epoch 16/100\n",
      "1198/1198 [==============================] - 14s 12ms/step - loss: 0.0031\n",
      "Epoch 17/100\n",
      "1198/1198 [==============================] - 14s 12ms/step - loss: 0.0033\n",
      "Epoch 18/100\n",
      "1198/1198 [==============================] - 14s 12ms/step - loss: 0.0032\n",
      "Epoch 19/100\n",
      "1198/1198 [==============================] - 14s 12ms/step - loss: 0.0030\n",
      "Epoch 20/100\n",
      "1198/1198 [==============================] - 14s 12ms/step - loss: 0.0030\n",
      "Epoch 21/100\n",
      "1198/1198 [==============================] - 14s 12ms/step - loss: 0.0028\n",
      "Epoch 22/100\n",
      "1198/1198 [==============================] - 14s 12ms/step - loss: 0.0028\n",
      "Epoch 23/100\n",
      "1198/1198 [==============================] - 14s 12ms/step - loss: 0.0025\n",
      "Epoch 24/100\n",
      "1198/1198 [==============================] - 14s 12ms/step - loss: 0.0025\n",
      "Epoch 25/100\n",
      "1198/1198 [==============================] - 14s 12ms/step - loss: 0.0028\n",
      "Epoch 26/100\n",
      "1198/1198 [==============================] - 14s 12ms/step - loss: 0.0029\n",
      "Epoch 27/100\n",
      "1198/1198 [==============================] - 14s 12ms/step - loss: 0.0025\n",
      "Epoch 28/100\n",
      "1198/1198 [==============================] - 14s 12ms/step - loss: 0.0026\n",
      "Epoch 29/100\n",
      "1198/1198 [==============================] - 14s 12ms/step - loss: 0.0027\n",
      "Epoch 30/100\n",
      "1198/1198 [==============================] - 14s 12ms/step - loss: 0.0025\n",
      "Epoch 31/100\n",
      "1198/1198 [==============================] - 14s 12ms/step - loss: 0.0025\n",
      "Epoch 32/100\n",
      "1198/1198 [==============================] - 14s 12ms/step - loss: 0.0024\n",
      "Epoch 33/100\n",
      "1198/1198 [==============================] - 14s 12ms/step - loss: 0.0024\n",
      "Epoch 34/100\n",
      "1198/1198 [==============================] - 14s 12ms/step - loss: 0.0024\n",
      "Epoch 35/100\n",
      "1198/1198 [==============================] - 14s 12ms/step - loss: 0.0025\n",
      "Epoch 36/100\n",
      "1198/1198 [==============================] - 14s 12ms/step - loss: 0.0024\n",
      "Epoch 37/100\n",
      "1198/1198 [==============================] - 14s 12ms/step - loss: 0.0021\n",
      "Epoch 38/100\n",
      "1198/1198 [==============================] - 14s 12ms/step - loss: 0.0021\n",
      "Epoch 39/100\n",
      "1198/1198 [==============================] - 14s 12ms/step - loss: 0.0021\n",
      "Epoch 40/100\n",
      "1198/1198 [==============================] - 14s 12ms/step - loss: 0.0022\n",
      "Epoch 41/100\n",
      "1198/1198 [==============================] - 14s 12ms/step - loss: 0.0022\n",
      "Epoch 42/100\n",
      "1198/1198 [==============================] - 14s 12ms/step - loss: 0.0021\n",
      "Epoch 43/100\n",
      "1198/1198 [==============================] - 14s 12ms/step - loss: 0.0021\n",
      "Epoch 44/100\n",
      "1198/1198 [==============================] - 14s 12ms/step - loss: 0.0023\n",
      "Epoch 45/100\n",
      "1198/1198 [==============================] - 14s 12ms/step - loss: 0.0022\n",
      "Epoch 46/100\n",
      "1198/1198 [==============================] - 14s 12ms/step - loss: 0.0020\n",
      "Epoch 47/100\n",
      "1198/1198 [==============================] - 14s 12ms/step - loss: 0.0022\n",
      "Epoch 48/100\n",
      "1198/1198 [==============================] - 14s 12ms/step - loss: 0.0021\n",
      "Epoch 49/100\n",
      "1198/1198 [==============================] - 14s 12ms/step - loss: 0.0019\n",
      "Epoch 50/100\n",
      "1198/1198 [==============================] - 14s 12ms/step - loss: 0.0019\n",
      "Epoch 51/100\n",
      "1198/1198 [==============================] - 14s 12ms/step - loss: 0.0022\n",
      "Epoch 52/100\n",
      "1198/1198 [==============================] - 14s 12ms/step - loss: 0.0019\n",
      "Epoch 53/100\n",
      "1198/1198 [==============================] - 14s 12ms/step - loss: 0.0022\n",
      "Epoch 54/100\n",
      "1198/1198 [==============================] - 14s 12ms/step - loss: 0.0019\n",
      "Epoch 55/100\n",
      "1198/1198 [==============================] - 14s 12ms/step - loss: 0.0018\n",
      "Epoch 56/100\n",
      "1198/1198 [==============================] - 14s 12ms/step - loss: 0.0018\n",
      "Epoch 57/100\n",
      "1198/1198 [==============================] - 14s 12ms/step - loss: 0.0019\n",
      "Epoch 58/100\n",
      "1198/1198 [==============================] - 14s 12ms/step - loss: 0.0017\n",
      "Epoch 59/100\n",
      "1198/1198 [==============================] - 14s 12ms/step - loss: 0.0018\n",
      "Epoch 60/100\n",
      "1198/1198 [==============================] - 14s 12ms/step - loss: 0.0018\n",
      "Epoch 61/100\n",
      "1198/1198 [==============================] - 14s 12ms/step - loss: 0.0017\n",
      "Epoch 62/100\n",
      "1198/1198 [==============================] - 14s 12ms/step - loss: 0.0018\n",
      "Epoch 63/100\n",
      "1198/1198 [==============================] - 14s 12ms/step - loss: 0.0017\n",
      "Epoch 64/100\n",
      "1198/1198 [==============================] - 14s 12ms/step - loss: 0.0016\n",
      "Epoch 65/100\n",
      "1198/1198 [==============================] - 14s 12ms/step - loss: 0.0017\n",
      "Epoch 66/100\n",
      "1198/1198 [==============================] - 14s 12ms/step - loss: 0.0017\n",
      "Epoch 67/100\n",
      "1198/1198 [==============================] - 14s 12ms/step - loss: 0.0017\n",
      "Epoch 68/100\n",
      "1198/1198 [==============================] - 14s 12ms/step - loss: 0.0016\n",
      "Epoch 69/100\n",
      "1198/1198 [==============================] - 14s 12ms/step - loss: 0.0017\n",
      "Epoch 70/100\n",
      "1198/1198 [==============================] - 14s 12ms/step - loss: 0.0015\n",
      "Epoch 71/100\n",
      "1198/1198 [==============================] - 14s 12ms/step - loss: 0.0019\n",
      "Epoch 72/100\n",
      "1198/1198 [==============================] - 14s 12ms/step - loss: 0.0017\n",
      "Epoch 73/100\n",
      "1198/1198 [==============================] - 14s 12ms/step - loss: 0.0016\n",
      "Epoch 74/100\n",
      "1198/1198 [==============================] - 14s 12ms/step - loss: 0.0017\n",
      "Epoch 75/100\n",
      "1198/1198 [==============================] - 14s 12ms/step - loss: 0.0017\n",
      "Epoch 76/100\n",
      "1198/1198 [==============================] - 14s 12ms/step - loss: 0.0016\n",
      "Epoch 77/100\n",
      "1198/1198 [==============================] - 14s 12ms/step - loss: 0.0017\n",
      "Epoch 78/100\n",
      "1198/1198 [==============================] - 14s 12ms/step - loss: 0.0015\n",
      "Epoch 79/100\n",
      "1198/1198 [==============================] - 14s 12ms/step - loss: 0.0014\n",
      "Epoch 80/100\n",
      "1198/1198 [==============================] - 14s 12ms/step - loss: 0.0015\n",
      "Epoch 81/100\n",
      "1198/1198 [==============================] - 14s 12ms/step - loss: 0.0013\n",
      "Epoch 82/100\n",
      "1198/1198 [==============================] - 14s 12ms/step - loss: 0.0016\n",
      "Epoch 83/100\n",
      "1198/1198 [==============================] - 14s 12ms/step - loss: 0.0016\n",
      "Epoch 84/100\n",
      "1198/1198 [==============================] - 14s 12ms/step - loss: 0.0014\n",
      "Epoch 85/100\n",
      "1198/1198 [==============================] - 14s 12ms/step - loss: 0.0014\n",
      "Epoch 86/100\n",
      "1198/1198 [==============================] - 14s 12ms/step - loss: 0.0015\n",
      "Epoch 87/100\n",
      "1198/1198 [==============================] - 14s 12ms/step - loss: 0.0015\n",
      "Epoch 88/100\n",
      "1198/1198 [==============================] - 14s 12ms/step - loss: 0.0014\n",
      "Epoch 89/100\n",
      "1198/1198 [==============================] - 14s 12ms/step - loss: 0.0013\n",
      "Epoch 90/100\n",
      "1198/1198 [==============================] - 14s 12ms/step - loss: 0.0015\n",
      "Epoch 91/100\n",
      "1198/1198 [==============================] - 14s 12ms/step - loss: 0.0014\n",
      "Epoch 92/100\n",
      "1198/1198 [==============================] - 14s 12ms/step - loss: 0.0015\n",
      "Epoch 93/100\n",
      "1198/1198 [==============================] - 15s 12ms/step - loss: 0.0014\n",
      "Epoch 94/100\n",
      "1198/1198 [==============================] - 14s 12ms/step - loss: 0.0014\n",
      "Epoch 95/100\n",
      "1198/1198 [==============================] - 14s 12ms/step - loss: 0.0012\n",
      "Epoch 96/100\n",
      "1198/1198 [==============================] - 14s 12ms/step - loss: 0.0012\n",
      "Epoch 97/100\n",
      "1198/1198 [==============================] - 14s 12ms/step - loss: 0.0013\n",
      "Epoch 98/100\n",
      "1198/1198 [==============================] - 14s 12ms/step - loss: 0.0014\n",
      "Epoch 99/100\n",
      "1198/1198 [==============================] - 14s 12ms/step - loss: 0.0014\n",
      "Epoch 100/100\n",
      "1198/1198 [==============================] - 14s 12ms/step - loss: 0.0012\n"
     ]
    },
    {
     "data": {
      "text/plain": [
       "<keras.callbacks.History at 0x7fa7adedc860>"
      ]
     },
     "execution_count": 37,
     "metadata": {
      "tags": []
     },
     "output_type": "execute_result"
    }
   ],
   "source": [
    "# Initialising the GRU\n",
    "regressor_gru = Sequential()\n",
    "# Adding the first GRU layer and some Dropout regularisation\n",
    "regressor_gru.add(GRU(units = 50, return_sequences = True, input_shape = (X_train.shape[1], 1)))\n",
    "regressor_gru.add(Dropout(0.2))\n",
    "# Adding a second GRU layer and some Dropout regularisation\n",
    "regressor_gru.add(GRU(units = 50, return_sequences = True))\n",
    "regressor_gru.add(Dropout(0.2))\n",
    "# Adding a third GRU layer and some Dropout regularisation\n",
    "regressor_gru.add(GRU(units = 50, return_sequences = True))\n",
    "regressor_gru.add(Dropout(0.2))\n",
    "# Adding a fourth GRU layer and some Dropout regularisation\n",
    "regressor_gru.add(GRU(units = 50))\n",
    "regressor_gru.add(Dropout(0.2))\n",
    "# Adding the output layer\n",
    "regressor_gru.add(Dense(units = 1))\n",
    "# Compiling the GRU\n",
    "regressor_gru.compile(optimizer = 'adam', loss = 'mean_squared_error')\n",
    "# Fitting the GRU to the Training set\n",
    "hist_gru = regressor_gru.fit(X_train, y_train, epochs = 100, batch_size = 32)\n",
    "hist_gru"
   ]
  },
  {
   "cell_type": "code",
   "execution_count": 0,
   "metadata": {
    "colab": {},
    "colab_type": "code",
    "id": "A2evbrCZRKsg"
   },
   "outputs": [],
   "source": [
    "loss_gru = hist_gru.history['loss']"
   ]
  },
  {
   "cell_type": "markdown",
   "metadata": {
    "colab_type": "text",
    "id": "iBqmxckFIr-l"
   },
   "source": [
    "# Part 3 - Model comparison"
   ]
  },
  {
   "cell_type": "code",
   "execution_count": 44,
   "metadata": {
    "colab": {
     "base_uri": "https://localhost:8080/",
     "height": 530
    },
    "colab_type": "code",
    "id": "8DHlbzuaIuTK",
    "outputId": "d245c053-261d-46fe-cf44-5c38c4f03e5f"
   },
   "outputs": [
    {
     "data": {
      "text/plain": [
       "Text(0.5, 1.0, 'RNN')"
      ]
     },
     "execution_count": 44,
     "metadata": {
      "tags": []
     },
     "output_type": "execute_result"
    },
    {
     "data": {
      "image/png": "[encoded data removed]",
      "text/plain": [
       "<Figure size 720x576 with 1 Axes>"
      ]
     },
     "metadata": {
      "tags": []
     },
     "output_type": "display_data"
    }
   ],
   "source": [
    "plt.figure(1,figsize= (10,8))\n",
    "plt.plot(loss_rnn,color='red',label = 'rnn')\n",
    "plt.xlabel(\"num of epochs\")\n",
    "plt.ylabel(\"loss\")\n",
    "plt.title('RNN')"
   ]
  },
  {
   "cell_type": "code",
   "execution_count": 45,
   "metadata": {
    "colab": {
     "base_uri": "https://localhost:8080/",
     "height": 530
    },
    "colab_type": "code",
    "id": "noHQLeOJP5p_",
    "outputId": "f14b940f-058f-4341-ffe8-b256d4bd203e"
   },
   "outputs": [
    {
     "data": {
      "text/plain": [
       "Text(0.5, 1.0, 'LSTM')"
      ]
     },
     "execution_count": 45,
     "metadata": {
      "tags": []
     },
     "output_type": "execute_result"
    },
    {
     "data": {
      "image/png": "[encoded data removed]",
      "text/plain": [
       "<Figure size 720x576 with 1 Axes>"
      ]
     },
     "metadata": {
      "tags": []
     },
     "output_type": "display_data"
    }
   ],
   "source": [
    "plt.figure(1,figsize= (10,8))\n",
    "plt.plot(loss_lstm,color='green',label = 'lstm')\n",
    "plt.xlabel(\"num of epochs\")\n",
    "plt.ylabel(\"loss\")\n",
    "plt.title('LSTM')"
   ]
  },
  {
   "cell_type": "code",
   "execution_count": 46,
   "metadata": {
    "colab": {
     "base_uri": "https://localhost:8080/",
     "height": 530
    },
    "colab_type": "code",
    "id": "1nW6CUi-gzBL",
    "outputId": "3a44f4c2-e7c8-401c-9c4b-42c626edc15f"
   },
   "outputs": [
    {
     "data": {
      "text/plain": [
       "Text(0.5, 1.0, 'GRU')"
      ]
     },
     "execution_count": 46,
     "metadata": {
      "tags": []
     },
     "output_type": "execute_result"
    },
    {
     "data": {
      "image/png": "[encoded data removed]",
      "text/plain": [
       "<Figure size 720x576 with 1 Axes>"
      ]
     },
     "metadata": {
      "tags": []
     },
     "output_type": "display_data"
    }
   ],
   "source": [
    "plt.figure(1,figsize= (10,8))\n",
    "plt.plot(loss_gru,color='blue',label = 'gru')\n",
    "plt.xlabel(\"num of epochs\")\n",
    "plt.ylabel(\"loss\")\n",
    "plt.title('GRU')"
   ]
  },
  {
   "cell_type": "markdown",
   "metadata": {
    "colab_type": "text",
    "id": "BHcG7O4z4dt0"
   },
   "source": [
    "# Part 4 - Making the predictions and visualising the results"
   ]
  },
  {
   "cell_type": "code",
   "execution_count": 0,
   "metadata": {
    "colab": {},
    "colab_type": "code",
    "id": "2SOJLNO64NGW"
   },
   "outputs": [],
   "source": [
    "# Getting the real stock price of 2017\n",
    "dataset_test = pd.read_csv('Google_Stock_Price_Test.csv')\n",
    "real_stock_price = dataset_test.iloc[:, 1:2].values"
   ]
  },
  {
   "cell_type": "code",
   "execution_count": 0,
   "metadata": {
    "colab": {},
    "colab_type": "code",
    "id": "OU39_eno4e6-"
   },
   "outputs": [],
   "source": [
    "# Getting the predicted stock price of 2017\n",
    "dataset_total = pd.concat((dataset_train['Open'], dataset_test['Open']), axis = 0)\n",
    "inputs = dataset_total[len(dataset_total) - len(dataset_test) - 60:].values\n",
    "inputs = inputs.reshape(-1,1)\n",
    "inputs = sc.transform(inputs)\n",
    "X_test = []\n",
    "for i in range(60, 80):\n",
    "    X_test.append(inputs[i-60:i, 0])\n"
   ]
  },
  {
   "cell_type": "code",
   "execution_count": 0,
   "metadata": {
    "colab": {},
    "colab_type": "code",
    "id": "m7NGyTAXD6QD"
   },
   "outputs": [],
   "source": [
    "X_test = np.array(X_test)"
   ]
  },
  {
   "cell_type": "code",
   "execution_count": 0,
   "metadata": {
    "colab": {},
    "colab_type": "code",
    "id": "0-MGEgf6EMsZ"
   },
   "outputs": [],
   "source": [
    "X_test_nn = X_test"
   ]
  },
  {
   "cell_type": "code",
   "execution_count": 51,
   "metadata": {
    "colab": {
     "base_uri": "https://localhost:8080/",
     "height": 34
    },
    "colab_type": "code",
    "id": "EB-83I2JEEZo",
    "outputId": "09f4f8a3-b652-4cf2-984a-f04b8382fd5c"
   },
   "outputs": [
    {
     "data": {
      "text/plain": [
       "(20, 60)"
      ]
     },
     "execution_count": 51,
     "metadata": {
      "tags": []
     },
     "output_type": "execute_result"
    }
   ],
   "source": [
    "X_test_nn.shape"
   ]
  },
  {
   "cell_type": "code",
   "execution_count": 0,
   "metadata": {
    "colab": {},
    "colab_type": "code",
    "id": "n3BmqUbAECt1"
   },
   "outputs": [],
   "source": [
    "X_test = np.reshape(X_test, (X_test.shape[0], X_test.shape[1], 1))"
   ]
  },
  {
   "cell_type": "code",
   "execution_count": 53,
   "metadata": {
    "colab": {
     "base_uri": "https://localhost:8080/",
     "height": 34
    },
    "colab_type": "code",
    "id": "uqASdQRVEXJY",
    "outputId": "a933cf9b-36b3-4fbc-a3c7-8962e08344e0"
   },
   "outputs": [
    {
     "data": {
      "text/plain": [
       "(20, 60, 1)"
      ]
     },
     "execution_count": 53,
     "metadata": {
      "tags": []
     },
     "output_type": "execute_result"
    }
   ],
   "source": [
    "X_test.shape"
   ]
  },
  {
   "cell_type": "code",
   "execution_count": 0,
   "metadata": {
    "colab": {},
    "colab_type": "code",
    "id": "_-Er3jPWEele"
   },
   "outputs": [],
   "source": [
    "predicted_stock_price_nn = model.predict(X_test_nn)\n",
    "predicted_stock_price_nn = sc.inverse_transform(predicted_stock_price_nn)"
   ]
  },
  {
   "cell_type": "code",
   "execution_count": 0,
   "metadata": {
    "colab": {},
    "colab_type": "code",
    "id": "bmv2z0fPP3t_"
   },
   "outputs": [],
   "source": [
    "predicted_stock_price_rnn = regressor_rnn.predict(X_test)\n",
    "predicted_stock_price_rnn = sc.inverse_transform(predicted_stock_price_rnn)"
   ]
  },
  {
   "cell_type": "code",
   "execution_count": 0,
   "metadata": {
    "colab": {},
    "colab_type": "code",
    "id": "DPNJDWJaQBfC"
   },
   "outputs": [],
   "source": [
    "predicted_stock_price_lstm = regressor_lstm.predict(X_test)\n",
    "predicted_stock_price_lstm = sc.inverse_transform(predicted_stock_price_lstm)"
   ]
  },
  {
   "cell_type": "code",
   "execution_count": 0,
   "metadata": {
    "colab": {},
    "colab_type": "code",
    "id": "D-XO0cDUQi2D"
   },
   "outputs": [],
   "source": [
    "predicted_stock_price_gru = regressor_gru.predict(X_test)\n",
    "predicted_stock_price_gru = sc.inverse_transform(predicted_stock_price_gru)"
   ]
  },
  {
   "cell_type": "code",
   "execution_count": 59,
   "metadata": {
    "colab": {
     "base_uri": "https://localhost:8080/",
     "height": 513
    },
    "colab_type": "code",
    "id": "-alqNzyZ4mKY",
    "outputId": "4754c39f-7b00-45e4-d4a5-fa612199f6e8"
   },
   "outputs": [
    {
     "data": {
      "image/png": "[encoded data removed]",
      "text/plain": [
       "<Figure size 720x576 with 1 Axes>"
      ]
     },
     "metadata": {
      "tags": []
     },
     "output_type": "display_data"
    }
   ],
   "source": [
    "# Visualising the results\n",
    "plt.figure(figsize = (10,8))\n",
    "plt.plot(real_stock_price, color = 'red', label = 'Real Google Stock Price')\n",
    "plt.plot(predicted_stock_price_nn, color = 'black', label = 'Predicted Price with nn')\n",
    "plt.plot(predicted_stock_price_rnn, color = 'blue', label = 'Predicted Price with simple rnn')\n",
    "plt.plot(predicted_stock_price_gru, color = 'green', label = 'Predicted Price with gru')\n",
    "plt.plot(predicted_stock_price_lstm, color = 'orange', label = 'Predicted Price with lstm')\n",
    "plt.title('Google Stock Price Prediction')\n",
    "plt.xlabel('Time')\n",
    "plt.ylabel('Google Stock Price')\n",
    "plt.legend()\n",
    "plt.show()"
   ]
  },
  {
   "cell_type": "markdown",
   "metadata": {
    "colab_type": "text",
    "id": "ylnpdq2AWERP"
   },
   "source": [
    "# Part 5 - Conclusion"
   ]
  },
  {
   "cell_type": "markdown",
   "metadata": {
    "colab_type": "text",
    "id": "P-hibPVFYE8u"
   },
   "source": [
    "- Comparing with the time of training, simple backpropagation has the least time comsumption,which is less than 5s. Vanilla neural network takes 600s to train the model.LSTM spend 1700s to train the model. GRU spend 1400s to train the model. Therefore the train time for 4 models: LSTM > GRU > RNN > Backpropagation.\n",
    "- For the computational efforts, to reach the same loss (0.002), vanilla rnn takes 86 epoach, LSTM takes 63 epoachs and GRU takes 46 epoach. Thus, GRU takes the least epoach to get the same performance with the other models.\n",
    "- From the plot showed on part 4, it can be seen that for prediction GRU performs the best, it not only catch the trend but also most close to the true value.\n",
    "- Therefore, it can be concluded that comparing with the 4 models above, although GRU is not the quickest algorithem, it can reach a low loss quicker and more likely to catch the trend and get close to the true value."
   ]
  },
  {
   "cell_type": "code",
   "execution_count": 0,
   "metadata": {
    "colab": {},
    "colab_type": "code",
    "id": "otXHA0TkfZHB"
   },
   "outputs": [],
   "source": []
  }
 ],
 "metadata": {
  "accelerator": "GPU",
  "colab": {
   "collapsed_sections": [],
   "name": "CIS731HW2.ipynb",
   "provenance": [],
   "toc_visible": true
  },
  "kernelspec": {
   "display_name": "Python 3",
   "language": "python",
   "name": "python3"
  },
  "language_info": {
   "codemirror_mode": {
    "name": "ipython",
    "version": 3
   },
   "file_extension": ".py",
   "mimetype": "text/x-python",
   "name": "python",
   "nbconvert_exporter": "python",
   "pygments_lexer": "ipython3",
   "version": "3.7.5"
  }
 },
 "nbformat": 4,
 "nbformat_minor": 1
}
