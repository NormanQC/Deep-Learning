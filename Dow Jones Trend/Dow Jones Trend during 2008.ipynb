{
 "cells": [
  {
   "cell_type": "code",
   "execution_count": 17,
   "metadata": {},
   "outputs": [],
   "source": [
    "import pandas as pd\n",
    "from keras.models import Sequential\n",
    "from sklearn.preprocessing import MinMaxScaler\n",
    "import matplotlib.pyplot as plt\n",
    "import numpy as np\n",
    "from keras.layers import LSTM,SimpleRNN,GRU\n",
    "from keras.layers import LSTM,SimpleRNN,GRU\n",
    "from keras.layers import Dropout,Dense\n",
    "from keras.optimizers import Adam"
   ]
  },
  {
   "cell_type": "markdown",
   "metadata": {},
   "source": [
    "# Step1:Loading the data"
   ]
  },
  {
   "cell_type": "code",
   "execution_count": 2,
   "metadata": {},
   "outputs": [],
   "source": [
    "data = pd.read_csv('Dow2000-2009.csv')"
   ]
  },
  {
   "cell_type": "code",
   "execution_count": 3,
   "metadata": {},
   "outputs": [],
   "source": [
    "cl = data.Close.values"
   ]
  },
  {
   "cell_type": "code",
   "execution_count": 4,
   "metadata": {},
   "outputs": [
    {
     "data": {
      "text/plain": [
       "(2514,)"
      ]
     },
     "execution_count": 4,
     "metadata": {},
     "output_type": "execute_result"
    }
   ],
   "source": [
    "cl.shape"
   ]
  },
  {
   "cell_type": "code",
   "execution_count": 5,
   "metadata": {},
   "outputs": [
    {
     "data": {
      "text/plain": [
       "array([[0.63150276],\n",
       "       [0.58429817],\n",
       "       [0.60067113],\n",
       "       ...,\n",
       "       [0.52511198],\n",
       "       [0.52489276],\n",
       "       [0.52529967]])"
      ]
     },
     "execution_count": 5,
     "metadata": {},
     "output_type": "execute_result"
    }
   ],
   "source": [
    "scl = MinMaxScaler()\n",
    "#Scale the data\n",
    "cl = cl.reshape(cl.shape[0],1)\n",
    "cl = scl.fit_transform(cl)\n",
    "cl"
   ]
  },
  {
   "cell_type": "markdown",
   "metadata": {},
   "source": [
    "# Step 2: Cutting our time series into sequences"
   ]
  },
  {
   "cell_type": "code",
   "execution_count": 6,
   "metadata": {},
   "outputs": [],
   "source": [
    "#Create a function to process the data into 7 day look back slices\n",
    "def processData(data,lb):\n",
    "    X,Y = [],[]\n",
    "    for i in range(len(data)-lb-1):\n",
    "        X.append(data[i:(i+lb),0])\n",
    "        Y.append(data[(i+lb),0])\n",
    "    return np.array(X),np.array(Y)\n",
    "X,y = processData(cl,7)"
   ]
  },
  {
   "cell_type": "code",
   "execution_count": 7,
   "metadata": {},
   "outputs": [
    {
     "data": {
      "text/plain": [
       "array([[0.63150276, 0.58429817, 0.60067113, ..., 0.65317001, 0.65968668,\n",
       "        0.65166301],\n",
       "       [0.58429817, 0.60067113, 0.61781714, ..., 0.65968668, 0.65166301,\n",
       "        0.65691666],\n",
       "       [0.60067113, 0.61781714, 0.65317001, ..., 0.65166301, 0.65691666,\n",
       "        0.66102958],\n",
       "       ...,\n",
       "       [0.51263016, 0.51120188, 0.49376037, ..., 0.50765996, 0.51432753,\n",
       "        0.51452585],\n",
       "       [0.51120188, 0.49376037, 0.4964686 , ..., 0.51432753, 0.51452585,\n",
       "        0.52156879],\n",
       "       [0.49376037, 0.4964686 , 0.50765996, ..., 0.51452585, 0.52156879,\n",
       "        0.52511198]])"
      ]
     },
     "execution_count": 7,
     "metadata": {},
     "output_type": "execute_result"
    }
   ],
   "source": [
    "X"
   ]
  },
  {
   "cell_type": "code",
   "execution_count": 8,
   "metadata": {},
   "outputs": [
    {
     "data": {
      "text/plain": [
       "2506"
      ]
     },
     "execution_count": 8,
     "metadata": {},
     "output_type": "execute_result"
    }
   ],
   "source": [
    "X.shape[0]"
   ]
  },
  {
   "cell_type": "code",
   "execution_count": 9,
   "metadata": {},
   "outputs": [
    {
     "data": {
      "text/plain": [
       "array([0.65691666, 0.66102958, 0.67948066, ..., 0.52156879, 0.52511198,\n",
       "       0.52489276])"
      ]
     },
     "execution_count": 9,
     "metadata": {},
     "output_type": "execute_result"
    }
   ],
   "source": [
    "y"
   ]
  },
  {
   "cell_type": "markdown",
   "metadata": {},
   "source": [
    "# Step 3: Cutting our time series into sequences"
   ]
  },
  {
   "cell_type": "code",
   "execution_count": 10,
   "metadata": {},
   "outputs": [],
   "source": [
    "X_train,X_test = X[:2250],X[2250:]\n",
    "y_train,y_test = y[:2250],y[2250:]"
   ]
  },
  {
   "cell_type": "code",
   "execution_count": 11,
   "metadata": {},
   "outputs": [
    {
     "name": "stdout",
     "output_type": "stream",
     "text": [
      "2250\n",
      "256\n",
      "2250\n",
      "256\n"
     ]
    }
   ],
   "source": [
    "\n",
    "print(X_train.shape[0])\n",
    "print(X_test.shape[0])\n",
    "print(y_train.shape[0])\n",
    "print(y_test.shape[0])"
   ]
  },
  {
   "cell_type": "markdown",
   "metadata": {},
   "source": [
    "# Step 4: Build and run an LSTM regression model"
   ]
  },
  {
   "cell_type": "code",
   "execution_count": 12,
   "metadata": {},
   "outputs": [],
   "source": [
    "import time\n",
    "import keras\n",
    "class TimeHistory(keras.callbacks.Callback):\n",
    "    def on_train_begin(self, logs={}):\n",
    "        self.times = []\n",
    "\n",
    "    def on_epoch_begin(self, batch, logs={}):\n",
    "        self.epoch_time_start = time.time()\n",
    "\n",
    "    def on_epoch_end(self, batch, logs={}):\n",
    "        self.times.append(time.time() - self.epoch_time_start)"
   ]
  },
  {
   "cell_type": "code",
   "execution_count": 13,
   "metadata": {},
   "outputs": [],
   "source": [
    "time_callback = TimeHistory()"
   ]
  },
  {
   "cell_type": "code",
   "execution_count": 93,
   "metadata": {},
   "outputs": [],
   "source": [
    "#Build the model\n",
    "model = Sequential()\n",
    "model.add(LSTM(64,input_shape=(7,1)))\n",
    "model.add(Dense(1))\n",
    "model.compile(optimizer='adam',loss='mse')"
   ]
  },
  {
   "cell_type": "code",
   "execution_count": 94,
   "metadata": {},
   "outputs": [],
   "source": [
    "#Reshape data for (Sample,Timestep,Features) \n",
    "X_train = X_train.reshape((X_train.shape[0],X_train.shape[1],1))\n",
    "X_test = X_test.reshape((X_test.shape[0],X_test.shape[1],1))"
   ]
  },
  {
   "cell_type": "code",
   "execution_count": 95,
   "metadata": {},
   "outputs": [
    {
     "name": "stdout",
     "output_type": "stream",
     "text": [
      "Train on 2250 samples, validate on 256 samples\n",
      "Epoch 1/200\n",
      "2250/2250 [==============================] - 1s 393us/step - loss: 0.0215 - val_loss: 0.0027\n",
      "Epoch 2/200\n",
      "2250/2250 [==============================] - 0s 125us/step - loss: 0.0013 - val_loss: 0.0019\n",
      "Epoch 3/200\n",
      "2250/2250 [==============================] - 0s 123us/step - loss: 0.0014 - val_loss: 0.0015\n",
      "Epoch 4/200\n",
      "2250/2250 [==============================] - 0s 126us/step - loss: 0.0013 - val_loss: 0.0014\n",
      "Epoch 5/200\n",
      "2250/2250 [==============================] - 0s 124us/step - loss: 0.0012 - val_loss: 0.0014\n",
      "Epoch 6/200\n",
      "2250/2250 [==============================] - 0s 121us/step - loss: 0.0012 - val_loss: 0.0013\n",
      "Epoch 7/200\n",
      "2250/2250 [==============================] - 0s 124us/step - loss: 0.0011 - val_loss: 0.0013\n",
      "Epoch 8/200\n",
      "2250/2250 [==============================] - 0s 130us/step - loss: 0.0011 - val_loss: 0.0013\n",
      "Epoch 9/200\n",
      "2250/2250 [==============================] - 0s 126us/step - loss: 0.0012 - val_loss: 0.0013\n",
      "Epoch 10/200\n",
      "2250/2250 [==============================] - 0s 121us/step - loss: 0.0012 - val_loss: 0.0013\n",
      "Epoch 11/200\n",
      "2250/2250 [==============================] - 0s 127us/step - loss: 0.0013 - val_loss: 0.0013\n",
      "Epoch 12/200\n",
      "2250/2250 [==============================] - 0s 122us/step - loss: 0.0013 - val_loss: 0.0013\n",
      "Epoch 13/200\n",
      "2250/2250 [==============================] - 0s 122us/step - loss: 0.0015 - val_loss: 0.0013\n",
      "Epoch 14/200\n",
      "2250/2250 [==============================] - 0s 134us/step - loss: 0.0017 - val_loss: 0.0013\n",
      "Epoch 15/200\n",
      "2250/2250 [==============================] - 0s 119us/step - loss: 0.0018 - val_loss: 0.0012\n",
      "Epoch 16/200\n",
      "2250/2250 [==============================] - 0s 118us/step - loss: 0.0019 - val_loss: 0.0011\n",
      "Epoch 17/200\n",
      "2250/2250 [==============================] - 0s 121us/step - loss: 0.0019 - val_loss: 0.0010\n",
      "Epoch 18/200\n",
      "2250/2250 [==============================] - 0s 120us/step - loss: 0.0018 - val_loss: 8.8411e-04\n",
      "Epoch 19/200\n",
      "2250/2250 [==============================] - 0s 117us/step - loss: 0.0017 - val_loss: 7.7563e-04\n",
      "Epoch 20/200\n",
      "2250/2250 [==============================] - 0s 117us/step - loss: 0.0016 - val_loss: 6.9696e-04\n",
      "Epoch 21/200\n",
      "2250/2250 [==============================] - 0s 120us/step - loss: 0.0015 - val_loss: 6.4729e-04\n",
      "Epoch 22/200\n",
      "2250/2250 [==============================] - 0s 118us/step - loss: 0.0014 - val_loss: 6.1899e-04\n",
      "Epoch 23/200\n",
      "2250/2250 [==============================] - 0s 117us/step - loss: 0.0014 - val_loss: 6.0440e-04\n",
      "Epoch 24/200\n",
      "2250/2250 [==============================] - 0s 116us/step - loss: 0.0014 - val_loss: 5.9837e-04\n",
      "Epoch 25/200\n",
      "2250/2250 [==============================] - 0s 116us/step - loss: 0.0013 - val_loss: 5.9818e-04\n",
      "Epoch 26/200\n",
      "2250/2250 [==============================] - 0s 118us/step - loss: 0.0013 - val_loss: 6.0256e-04\n",
      "Epoch 27/200\n",
      "2250/2250 [==============================] - 0s 116us/step - loss: 0.0013 - val_loss: 6.1105e-04\n",
      "Epoch 28/200\n",
      "2250/2250 [==============================] - 0s 116us/step - loss: 0.0013 - val_loss: 6.2120e-04\n",
      "Epoch 29/200\n",
      "2250/2250 [==============================] - 0s 116us/step - loss: 0.0014 - val_loss: 6.3392e-04\n",
      "Epoch 30/200\n",
      "2250/2250 [==============================] - 0s 121us/step - loss: 0.0014 - val_loss: 6.4771e-04\n",
      "Epoch 31/200\n",
      "2250/2250 [==============================] - 0s 119us/step - loss: 0.0014 - val_loss: 6.7031e-04\n",
      "Epoch 32/200\n",
      "2250/2250 [==============================] - 0s 123us/step - loss: 0.0014 - val_loss: 6.9764e-04\n",
      "Epoch 33/200\n",
      "2250/2250 [==============================] - 0s 129us/step - loss: 0.0014 - val_loss: 7.4736e-04\n",
      "Epoch 34/200\n",
      "2250/2250 [==============================] - 0s 126us/step - loss: 0.0014 - val_loss: 7.9080e-04\n",
      "Epoch 35/200\n",
      "2250/2250 [==============================] - 0s 118us/step - loss: 0.0014 - val_loss: 8.2518e-04\n",
      "Epoch 36/200\n",
      "2250/2250 [==============================] - 0s 119us/step - loss: 0.0014 - val_loss: 8.6993e-04\n",
      "Epoch 37/200\n",
      "2250/2250 [==============================] - 0s 124us/step - loss: 0.0014 - val_loss: 9.3403e-04\n",
      "Epoch 38/200\n",
      "2250/2250 [==============================] - 0s 124us/step - loss: 0.0015 - val_loss: 9.8619e-04\n",
      "Epoch 39/200\n",
      "2250/2250 [==============================] - 0s 121us/step - loss: 0.0015 - val_loss: 0.0011\n",
      "Epoch 40/200\n",
      "2250/2250 [==============================] - 0s 124us/step - loss: 0.0015 - val_loss: 0.0012\n",
      "Epoch 41/200\n",
      "2250/2250 [==============================] - 0s 125us/step - loss: 0.0015 - val_loss: 0.0012\n",
      "Epoch 42/200\n",
      "2250/2250 [==============================] - 0s 121us/step - loss: 0.0015 - val_loss: 0.0013\n",
      "Epoch 43/200\n",
      "2250/2250 [==============================] - 0s 117us/step - loss: 0.0016 - val_loss: 0.0014\n",
      "Epoch 44/200\n",
      "2250/2250 [==============================] - 0s 120us/step - loss: 0.0016 - val_loss: 0.0014\n",
      "Epoch 45/200\n",
      "2250/2250 [==============================] - 0s 122us/step - loss: 0.0016 - val_loss: 0.0014\n",
      "Epoch 46/200\n",
      "2250/2250 [==============================] - 0s 127us/step - loss: 0.0016 - val_loss: 0.0015\n",
      "Epoch 47/200\n",
      "2250/2250 [==============================] - 0s 120us/step - loss: 0.0016 - val_loss: 0.0016\n",
      "Epoch 48/200\n",
      "2250/2250 [==============================] - 0s 125us/step - loss: 0.0016 - val_loss: 0.0016\n",
      "Epoch 49/200\n",
      "2250/2250 [==============================] - 0s 121us/step - loss: 0.0016 - val_loss: 0.0016\n",
      "Epoch 50/200\n",
      "2250/2250 [==============================] - 0s 128us/step - loss: 0.0016 - val_loss: 0.0016\n",
      "Epoch 51/200\n",
      "2250/2250 [==============================] - 0s 128us/step - loss: 0.0016 - val_loss: 0.0016\n",
      "Epoch 52/200\n",
      "2250/2250 [==============================] - 0s 124us/step - loss: 0.0015 - val_loss: 0.0016\n",
      "Epoch 53/200\n",
      "2250/2250 [==============================] - 0s 129us/step - loss: 0.0015 - val_loss: 0.0016\n",
      "Epoch 54/200\n",
      "2250/2250 [==============================] - 0s 114us/step - loss: 0.0015 - val_loss: 0.0017\n",
      "Epoch 55/200\n",
      "2250/2250 [==============================] - 0s 131us/step - loss: 0.0015 - val_loss: 0.0017\n",
      "Epoch 56/200\n",
      "2250/2250 [==============================] - 0s 143us/step - loss: 0.0015 - val_loss: 0.0017\n",
      "Epoch 57/200\n",
      "2250/2250 [==============================] - 0s 152us/step - loss: 0.0014 - val_loss: 0.0017\n",
      "Epoch 58/200\n",
      "2250/2250 [==============================] - 0s 160us/step - loss: 0.0014 - val_loss: 0.0017\n",
      "Epoch 59/200\n",
      "2250/2250 [==============================] - 0s 157us/step - loss: 0.0013 - val_loss: 0.0016\n",
      "Epoch 60/200\n",
      "2250/2250 [==============================] - 0s 156us/step - loss: 0.0013 - val_loss: 0.0015\n",
      "Epoch 61/200\n",
      "2250/2250 [==============================] - 0s 163us/step - loss: 0.0013 - val_loss: 0.0015\n",
      "Epoch 62/200\n",
      "2250/2250 [==============================] - 0s 157us/step - loss: 0.0012 - val_loss: 0.0014\n",
      "Epoch 63/200\n",
      "2250/2250 [==============================] - 0s 160us/step - loss: 0.0012 - val_loss: 0.0013\n",
      "Epoch 64/200\n",
      "2250/2250 [==============================] - 0s 162us/step - loss: 0.0011 - val_loss: 0.0013\n",
      "Epoch 65/200\n",
      "2250/2250 [==============================] - 0s 169us/step - loss: 0.0011 - val_loss: 0.0012\n",
      "Epoch 66/200\n",
      "2250/2250 [==============================] - 0s 171us/step - loss: 0.0011 - val_loss: 0.0012\n",
      "Epoch 67/200\n",
      "2250/2250 [==============================] - 0s 163us/step - loss: 0.0010 - val_loss: 0.0011\n",
      "Epoch 68/200\n",
      "2250/2250 [==============================] - 0s 154us/step - loss: 9.9298e-04 - val_loss: 0.0010\n",
      "Epoch 69/200\n",
      "2250/2250 [==============================] - 0s 159us/step - loss: 9.6224e-04 - val_loss: 9.5501e-04\n",
      "Epoch 70/200\n",
      "2250/2250 [==============================] - 0s 160us/step - loss: 9.3412e-04 - val_loss: 9.0711e-04\n",
      "Epoch 71/200\n",
      "2250/2250 [==============================] - 0s 157us/step - loss: 9.0729e-04 - val_loss: 8.4775e-04\n",
      "Epoch 72/200\n",
      "2250/2250 [==============================] - 0s 158us/step - loss: 8.8228e-04 - val_loss: 8.0289e-04\n",
      "Epoch 73/200\n",
      "2250/2250 [==============================] - 0s 163us/step - loss: 8.5957e-04 - val_loss: 7.5856e-04\n",
      "Epoch 74/200\n",
      "2250/2250 [==============================] - 0s 158us/step - loss: 8.3981e-04 - val_loss: 7.3310e-04\n",
      "Epoch 75/200\n",
      "2250/2250 [==============================] - 0s 164us/step - loss: 8.2137e-04 - val_loss: 6.9650e-04\n",
      "Epoch 76/200\n",
      "2250/2250 [==============================] - 0s 156us/step - loss: 8.0387e-04 - val_loss: 6.7158e-04\n",
      "Epoch 77/200\n",
      "2250/2250 [==============================] - 0s 160us/step - loss: 7.8741e-04 - val_loss: 6.4009e-04\n",
      "Epoch 78/200\n",
      "2250/2250 [==============================] - 0s 156us/step - loss: 7.7223e-04 - val_loss: 6.1854e-04\n",
      "Epoch 79/200\n",
      "2250/2250 [==============================] - 0s 156us/step - loss: 7.5778e-04 - val_loss: 5.9222e-04\n",
      "Epoch 80/200\n",
      "2250/2250 [==============================] - 0s 160us/step - loss: 7.4488e-04 - val_loss: 5.7484e-04\n",
      "Epoch 81/200\n",
      "2250/2250 [==============================] - 0s 158us/step - loss: 7.3219e-04 - val_loss: 5.5249e-04\n",
      "Epoch 82/200\n",
      "2250/2250 [==============================] - 0s 153us/step - loss: 7.2135e-04 - val_loss: 5.3878e-04\n",
      "Epoch 83/200\n",
      "2250/2250 [==============================] - 0s 172us/step - loss: 7.0984e-04 - val_loss: 5.1860e-04\n",
      "Epoch 84/200\n",
      "2250/2250 [==============================] - 0s 170us/step - loss: 7.0084e-04 - val_loss: 5.0750e-04\n",
      "Epoch 85/200\n",
      "2250/2250 [==============================] - 0s 161us/step - loss: 6.8969e-04 - val_loss: 4.8814e-04\n",
      "Epoch 86/200\n",
      "2250/2250 [==============================] - 0s 157us/step - loss: 6.8303e-04 - val_loss: 4.8048e-04\n",
      "Epoch 87/200\n",
      "2250/2250 [==============================] - 0s 167us/step - loss: 6.7290e-04 - val_loss: 4.6573e-04\n",
      "Epoch 88/200\n",
      "2250/2250 [==============================] - 0s 163us/step - loss: 6.6950e-04 - val_loss: 4.6335e-04\n",
      "Epoch 89/200\n",
      "2250/2250 [==============================] - 0s 155us/step - loss: 6.6210e-04 - val_loss: 4.5542e-04\n",
      "Epoch 90/200\n",
      "2250/2250 [==============================] - 0s 155us/step - loss: 6.6044e-04 - val_loss: 4.5571e-04\n",
      "Epoch 91/200\n",
      "2250/2250 [==============================] - 0s 160us/step - loss: 6.5740e-04 - val_loss: 4.5469e-04\n",
      "Epoch 92/200\n",
      "2250/2250 [==============================] - 0s 160us/step - loss: 6.5551e-04 - val_loss: 4.5567e-04\n",
      "Epoch 93/200\n",
      "2250/2250 [==============================] - 0s 157us/step - loss: 6.5242e-04 - val_loss: 4.5310e-04\n",
      "Epoch 94/200\n",
      "2250/2250 [==============================] - 0s 171us/step - loss: 6.5015e-04 - val_loss: 4.5158e-04\n",
      "Epoch 95/200\n",
      "2250/2250 [==============================] - 0s 165us/step - loss: 6.4808e-04 - val_loss: 4.5228e-04\n",
      "Epoch 96/200\n",
      "2250/2250 [==============================] - 0s 156us/step - loss: 6.4704e-04 - val_loss: 4.5462e-04\n",
      "Epoch 97/200\n",
      "2250/2250 [==============================] - 0s 176us/step - loss: 6.4343e-04 - val_loss: 4.5226e-04\n",
      "Epoch 98/200\n",
      "2250/2250 [==============================] - 0s 207us/step - loss: 6.4260e-04 - val_loss: 4.5237e-04\n",
      "Epoch 99/200\n",
      "2250/2250 [==============================] - 0s 173us/step - loss: 6.4058e-04 - val_loss: 4.5214e-04\n",
      "Epoch 100/200\n",
      "2250/2250 [==============================] - 0s 170us/step - loss: 6.4203e-04 - val_loss: 4.5584e-04\n",
      "Epoch 101/200\n",
      "2250/2250 [==============================] - 0s 169us/step - loss: 6.3869e-04 - val_loss: 4.5560e-04\n",
      "Epoch 102/200\n",
      "2250/2250 [==============================] - 0s 167us/step - loss: 6.3996e-04 - val_loss: 4.5632e-04\n",
      "Epoch 103/200\n",
      "2250/2250 [==============================] - 0s 160us/step - loss: 6.3666e-04 - val_loss: 4.5358e-04\n",
      "Epoch 104/200\n",
      "2250/2250 [==============================] - 0s 176us/step - loss: 6.4593e-04 - val_loss: 4.6039e-04\n",
      "Epoch 105/200\n",
      "2250/2250 [==============================] - 0s 161us/step - loss: 6.4896e-04 - val_loss: 4.7538e-04\n",
      "Epoch 106/200\n",
      "2250/2250 [==============================] - 0s 153us/step - loss: 6.5134e-04 - val_loss: 4.8742e-04\n",
      "Epoch 107/200\n",
      "2250/2250 [==============================] - 0s 169us/step - loss: 6.5024e-04 - val_loss: 4.8895e-04\n",
      "Epoch 108/200\n",
      "2250/2250 [==============================] - 0s 172us/step - loss: 6.4938e-04 - val_loss: 4.9277e-04\n",
      "Epoch 109/200\n",
      "2250/2250 [==============================] - 0s 164us/step - loss: 6.5260e-04 - val_loss: 5.0031e-04\n",
      "Epoch 110/200\n",
      "2250/2250 [==============================] - 0s 160us/step - loss: 6.5386e-04 - val_loss: 5.0732e-04\n",
      "Epoch 111/200\n",
      "2250/2250 [==============================] - 0s 185us/step - loss: 6.5189e-04 - val_loss: 5.1105e-04\n",
      "Epoch 112/200\n",
      "2250/2250 [==============================] - 0s 199us/step - loss: 6.5533e-04 - val_loss: 5.1751e-04\n",
      "Epoch 113/200\n",
      "2250/2250 [==============================] - 0s 195us/step - loss: 6.5728e-04 - val_loss: 5.2680e-04\n",
      "Epoch 114/200\n",
      "2250/2250 [==============================] - 0s 172us/step - loss: 6.5776e-04 - val_loss: 5.3472e-04\n",
      "Epoch 115/200\n",
      "2250/2250 [==============================] - 0s 168us/step - loss: 6.6221e-04 - val_loss: 5.4211e-04\n",
      "Epoch 116/200\n",
      "2250/2250 [==============================] - 0s 177us/step - loss: 6.6106e-04 - val_loss: 5.5231e-04\n",
      "Epoch 117/200\n",
      "2250/2250 [==============================] - 0s 164us/step - loss: 6.6504e-04 - val_loss: 5.5488e-04\n",
      "Epoch 118/200\n",
      "2250/2250 [==============================] - 0s 178us/step - loss: 6.6342e-04 - val_loss: 5.6114e-04\n",
      "Epoch 119/200\n",
      "2250/2250 [==============================] - 0s 190us/step - loss: 6.6703e-04 - val_loss: 5.6300e-04\n",
      "Epoch 120/200\n",
      "2250/2250 [==============================] - 0s 173us/step - loss: 6.6438e-04 - val_loss: 5.6808e-04\n",
      "Epoch 121/200\n",
      "2250/2250 [==============================] - 0s 188us/step - loss: 6.7288e-04 - val_loss: 5.7830e-04\n",
      "Epoch 122/200\n",
      "2250/2250 [==============================] - 0s 165us/step - loss: 6.7345e-04 - val_loss: 5.9165e-04\n",
      "Epoch 123/200\n",
      "2250/2250 [==============================] - 0s 160us/step - loss: 6.7208e-04 - val_loss: 5.9132e-04\n",
      "Epoch 124/200\n",
      "2250/2250 [==============================] - 0s 161us/step - loss: 6.8089e-04 - val_loss: 5.9395e-04\n",
      "Epoch 125/200\n",
      "2250/2250 [==============================] - 0s 172us/step - loss: 6.6748e-04 - val_loss: 5.9104e-04\n",
      "Epoch 126/200\n",
      "2250/2250 [==============================] - 0s 179us/step - loss: 6.8500e-04 - val_loss: 5.9347e-04\n",
      "Epoch 127/200\n",
      "2250/2250 [==============================] - 0s 195us/step - loss: 6.7584e-04 - val_loss: 6.0075e-04\n",
      "Epoch 128/200\n",
      "2250/2250 [==============================] - 1s 242us/step - loss: 6.8609e-04 - val_loss: 6.0297e-04\n",
      "Epoch 129/200\n",
      "2250/2250 [==============================] - 0s 193us/step - loss: 6.8185e-04 - val_loss: 6.0865e-04\n",
      "Epoch 130/200\n",
      "2250/2250 [==============================] - 0s 184us/step - loss: 6.8513e-04 - val_loss: 6.1528e-04\n",
      "Epoch 131/200\n",
      "2250/2250 [==============================] - 0s 210us/step - loss: 6.8208e-04 - val_loss: 6.1449e-04\n",
      "Epoch 132/200\n",
      "2250/2250 [==============================] - 0s 188us/step - loss: 6.8192e-04 - val_loss: 6.1170e-04\n",
      "Epoch 133/200\n",
      "2250/2250 [==============================] - 0s 182us/step - loss: 6.7836e-04 - val_loss: 6.0753e-04\n",
      "Epoch 134/200\n",
      "2250/2250 [==============================] - 0s 190us/step - loss: 6.8101e-04 - val_loss: 6.0263e-04\n",
      "Epoch 135/200\n",
      "2250/2250 [==============================] - 0s 173us/step - loss: 6.7464e-04 - val_loss: 5.9640e-04\n",
      "Epoch 136/200\n",
      "2250/2250 [==============================] - 0s 158us/step - loss: 6.7380e-04 - val_loss: 5.9505e-04\n",
      "Epoch 137/200\n",
      "2250/2250 [==============================] - 0s 163us/step - loss: 6.7293e-04 - val_loss: 6.0806e-04\n",
      "Epoch 138/200\n",
      "2250/2250 [==============================] - 0s 169us/step - loss: 6.7300e-04 - val_loss: 6.0530e-04\n",
      "Epoch 139/200\n",
      "2250/2250 [==============================] - 0s 161us/step - loss: 6.7183e-04 - val_loss: 6.0574e-04\n",
      "Epoch 140/200\n",
      "2250/2250 [==============================] - 0s 157us/step - loss: 6.7270e-04 - val_loss: 6.0909e-04\n",
      "Epoch 141/200\n",
      "2250/2250 [==============================] - 0s 159us/step - loss: 6.6817e-04 - val_loss: 6.0016e-04\n",
      "Epoch 142/200\n",
      "2250/2250 [==============================] - 0s 169us/step - loss: 6.6249e-04 - val_loss: 5.9470e-04\n",
      "Epoch 143/200\n",
      "2250/2250 [==============================] - 0s 168us/step - loss: 6.5963e-04 - val_loss: 5.9514e-04\n",
      "Epoch 144/200\n",
      "2250/2250 [==============================] - 0s 162us/step - loss: 6.5614e-04 - val_loss: 5.9060e-04\n",
      "Epoch 145/200\n",
      "2250/2250 [==============================] - 0s 174us/step - loss: 6.4989e-04 - val_loss: 5.8171e-04\n",
      "Epoch 146/200\n",
      "2250/2250 [==============================] - 0s 163us/step - loss: 6.3973e-04 - val_loss: 5.6223e-04\n",
      "Epoch 147/200\n"
     ]
    },
    {
     "name": "stdout",
     "output_type": "stream",
     "text": [
      "2250/2250 [==============================] - 0s 160us/step - loss: 6.4103e-04 - val_loss: 5.7550e-04\n",
      "Epoch 148/200\n",
      "2250/2250 [==============================] - 0s 165us/step - loss: 6.3383e-04 - val_loss: 5.6058e-04\n",
      "Epoch 149/200\n",
      "2250/2250 [==============================] - 0s 170us/step - loss: 6.3389e-04 - val_loss: 5.6992e-04\n",
      "Epoch 150/200\n",
      "2250/2250 [==============================] - 0s 165us/step - loss: 6.2563e-04 - val_loss: 5.5580e-04\n",
      "Epoch 151/200\n",
      "2250/2250 [==============================] - 0s 172us/step - loss: 6.2471e-04 - val_loss: 5.5901e-04\n",
      "Epoch 152/200\n",
      "2250/2250 [==============================] - 0s 164us/step - loss: 6.1421e-04 - val_loss: 5.4345e-04\n",
      "Epoch 153/200\n",
      "2250/2250 [==============================] - ETA: 0s - loss: 6.1360e-0 - 0s 156us/step - loss: 6.1562e-04 - val_loss: 5.4910e-04\n",
      "Epoch 154/200\n",
      "2250/2250 [==============================] - 0s 184us/step - loss: 6.0905e-04 - val_loss: 5.4039e-04\n",
      "Epoch 155/200\n",
      "2250/2250 [==============================] - 0s 172us/step - loss: 6.0830e-04 - val_loss: 5.4370e-04\n",
      "Epoch 156/200\n",
      "2250/2250 [==============================] - 0s 156us/step - loss: 6.0181e-04 - val_loss: 5.3272e-04\n",
      "Epoch 157/200\n",
      "2250/2250 [==============================] - 0s 167us/step - loss: 5.9640e-04 - val_loss: 5.2701e-04\n",
      "Epoch 158/200\n",
      "2250/2250 [==============================] - 0s 165us/step - loss: 5.9041e-04 - val_loss: 5.1616e-04\n",
      "Epoch 159/200\n",
      "2250/2250 [==============================] - 0s 164us/step - loss: 5.8685e-04 - val_loss: 5.1195e-04\n",
      "Epoch 160/200\n",
      "2250/2250 [==============================] - 0s 157us/step - loss: 5.8266e-04 - val_loss: 5.0746e-04\n",
      "Epoch 161/200\n",
      "2250/2250 [==============================] - 0s 161us/step - loss: 5.8170e-04 - val_loss: 5.0745e-04\n",
      "Epoch 162/200\n",
      "2250/2250 [==============================] - 0s 162us/step - loss: 5.7621e-04 - val_loss: 5.0140e-04\n",
      "Epoch 163/200\n",
      "2250/2250 [==============================] - 0s 158us/step - loss: 5.7566e-04 - val_loss: 5.0127e-04\n",
      "Epoch 164/200\n",
      "2250/2250 [==============================] - 0s 163us/step - loss: 5.6915e-04 - val_loss: 4.9328e-04\n",
      "Epoch 165/200\n",
      "2250/2250 [==============================] - 0s 158us/step - loss: 5.6983e-04 - val_loss: 4.9477e-04\n",
      "Epoch 166/200\n",
      "2250/2250 [==============================] - 0s 172us/step - loss: 5.6408e-04 - val_loss: 4.8700e-04\n",
      "Epoch 167/200\n",
      "2250/2250 [==============================] - 0s 167us/step - loss: 5.6532e-04 - val_loss: 4.8867e-04\n",
      "Epoch 168/200\n",
      "2250/2250 [==============================] - 0s 160us/step - loss: 5.5888e-04 - val_loss: 4.8015e-04\n",
      "Epoch 169/200\n",
      "2250/2250 [==============================] - 0s 162us/step - loss: 5.6142e-04 - val_loss: 4.8598e-04\n",
      "Epoch 170/200\n",
      "2250/2250 [==============================] - 0s 161us/step - loss: 5.5667e-04 - val_loss: 4.7862e-04\n",
      "Epoch 171/200\n",
      "2250/2250 [==============================] - 0s 168us/step - loss: 5.5787e-04 - val_loss: 4.8140e-04\n",
      "Epoch 172/200\n",
      "2250/2250 [==============================] - 0s 157us/step - loss: 5.5378e-04 - val_loss: 4.7451e-04\n",
      "Epoch 173/200\n",
      "2250/2250 [==============================] - 0s 153us/step - loss: 5.5545e-04 - val_loss: 4.7835e-04\n",
      "Epoch 174/200\n",
      "2250/2250 [==============================] - 0s 167us/step - loss: 5.5129e-04 - val_loss: 4.7133e-04\n",
      "Epoch 175/200\n",
      "2250/2250 [==============================] - 0s 160us/step - loss: 5.5271e-04 - val_loss: 4.7547e-04\n",
      "Epoch 176/200\n",
      "2250/2250 [==============================] - 0s 157us/step - loss: 5.4798e-04 - val_loss: 4.6915e-04\n",
      "Epoch 177/200\n",
      "2250/2250 [==============================] - 0s 167us/step - loss: 5.4942e-04 - val_loss: 4.7340e-04\n",
      "Epoch 178/200\n",
      "2250/2250 [==============================] - 0s 156us/step - loss: 5.4591e-04 - val_loss: 4.6857e-04\n",
      "Epoch 179/200\n",
      "2250/2250 [==============================] - 0s 160us/step - loss: 5.4876e-04 - val_loss: 4.7361e-04\n",
      "Epoch 180/200\n",
      "2250/2250 [==============================] - 0s 164us/step - loss: 5.4738e-04 - val_loss: 4.7214e-04\n",
      "Epoch 181/200\n",
      "2250/2250 [==============================] - 0s 159us/step - loss: 5.4896e-04 - val_loss: 4.7454e-04\n",
      "Epoch 182/200\n",
      "2250/2250 [==============================] - 0s 164us/step - loss: 5.4732e-04 - val_loss: 4.7356e-04\n",
      "Epoch 183/200\n",
      "2250/2250 [==============================] - 0s 166us/step - loss: 5.4769e-04 - val_loss: 4.7463e-04\n",
      "Epoch 184/200\n",
      "2250/2250 [==============================] - 0s 163us/step - loss: 5.4584e-04 - val_loss: 4.7288e-04\n",
      "Epoch 185/200\n",
      "2250/2250 [==============================] - 0s 166us/step - loss: 5.4613e-04 - val_loss: 4.7371e-04\n",
      "Epoch 186/200\n",
      "2250/2250 [==============================] - 0s 162us/step - loss: 5.4551e-04 - val_loss: 4.7194e-04\n",
      "Epoch 187/200\n",
      "2250/2250 [==============================] - 0s 160us/step - loss: 5.4583e-04 - val_loss: 4.7376e-04\n",
      "Epoch 188/200\n",
      "2250/2250 [==============================] - 0s 167us/step - loss: 5.4603e-04 - val_loss: 4.7245e-04\n",
      "Epoch 189/200\n",
      "2250/2250 [==============================] - 0s 162us/step - loss: 5.4558e-04 - val_loss: 4.7352e-04\n",
      "Epoch 190/200\n",
      "2250/2250 [==============================] - 0s 162us/step - loss: 5.4517e-04 - val_loss: 4.7222e-04\n",
      "Epoch 191/200\n",
      "2250/2250 [==============================] - 0s 168us/step - loss: 5.4546e-04 - val_loss: 4.7461e-04\n",
      "Epoch 192/200\n",
      "2250/2250 [==============================] - 0s 171us/step - loss: 5.4549e-04 - val_loss: 4.7532e-04\n",
      "Epoch 193/200\n",
      "2250/2250 [==============================] - 0s 177us/step - loss: 5.4820e-04 - val_loss: 4.8178e-04\n",
      "Epoch 194/200\n",
      "2250/2250 [==============================] - 0s 168us/step - loss: 5.4676e-04 - val_loss: 4.8045e-04\n",
      "Epoch 195/200\n",
      "2250/2250 [==============================] - 0s 164us/step - loss: 5.5010e-04 - val_loss: 4.8691e-04\n",
      "Epoch 196/200\n",
      "2250/2250 [==============================] - 0s 164us/step - loss: 5.4708e-04 - val_loss: 4.8304e-04\n",
      "Epoch 197/200\n",
      "2250/2250 [==============================] - 0s 163us/step - loss: 5.4975e-04 - val_loss: 4.8862e-04\n",
      "Epoch 198/200\n",
      "2250/2250 [==============================] - 0s 187us/step - loss: 5.4480e-04 - val_loss: 4.8179e-04\n",
      "Epoch 199/200\n",
      "2250/2250 [==============================] - 0s 167us/step - loss: 5.4866e-04 - val_loss: 4.9052e-04\n",
      "Epoch 200/200\n",
      "2250/2250 [==============================] - 0s 161us/step - loss: 5.4260e-04 - val_loss: 4.8110e-04\n"
     ]
    }
   ],
   "source": [
    "#Fit model with history to check for overfitting\n",
    "history = model.fit(X_train,y_train,epochs=200,validation_data=(X_test,y_test),shuffle=False,callbacks=[time_callback])"
   ]
  },
  {
   "cell_type": "code",
   "execution_count": 96,
   "metadata": {},
   "outputs": [],
   "source": [
    "training_time_lstm = time_callback.times"
   ]
  },
  {
   "cell_type": "code",
   "execution_count": 97,
   "metadata": {},
   "outputs": [
    {
     "data": {
      "text/plain": [
       "70.37408208847046"
      ]
     },
     "execution_count": 97,
     "metadata": {},
     "output_type": "execute_result"
    }
   ],
   "source": [
    "sum(training_time_lstm)"
   ]
  },
  {
   "cell_type": "markdown",
   "metadata": {},
   "source": [
    "# Step 5: Checking model performance"
   ]
  },
  {
   "cell_type": "code",
   "execution_count": 117,
   "metadata": {},
   "outputs": [
    {
     "data": {
      "image/png": "[encoded data removed]",
      "text/plain": [
       "<Figure size 720x576 with 1 Axes>"
      ]
     },
     "metadata": {
      "needs_background": "light"
     },
     "output_type": "display_data"
    }
   ],
   "source": [
    "plt.figure(figsize = (10,8))\n",
    "plt.plot(history.history['loss'])\n",
    "plt.plot(history.history['val_loss'])\n",
    "plt.title('LSTM')\n",
    "plt.show()"
   ]
  },
  {
   "cell_type": "code",
   "execution_count": 99,
   "metadata": {},
   "outputs": [
    {
     "data": {
      "text/plain": [
       "array([[0.27340141],\n",
       "       [0.26484879],\n",
       "       [0.31205723],\n",
       "       [0.29895581],\n",
       "       [0.27016025],\n",
       "       [0.26676282],\n",
       "       [0.25896235]])"
      ]
     },
     "execution_count": 99,
     "metadata": {},
     "output_type": "execute_result"
    }
   ],
   "source": [
    "X_test[0]"
   ]
  },
  {
   "cell_type": "code",
   "execution_count": 100,
   "metadata": {},
   "outputs": [
    {
     "data": {
      "text/plain": [
       "[<matplotlib.lines.Line2D at 0x23897aa0d68>]"
      ]
     },
     "execution_count": 100,
     "metadata": {},
     "output_type": "execute_result"
    },
    {
     "data": {
      "image/png": "[encoded data removed]",
      "text/plain": [
       "<Figure size 1080x576 with 1 Axes>"
      ]
     },
     "metadata": {
      "needs_background": "light"
     },
     "output_type": "display_data"
    }
   ],
   "source": [
    "Xt = model.predict(X_test)\n",
    "fig, ax = plt.subplots(figsize=(15, 8))\n",
    "plt.plot(scl.inverse_transform(y_test.reshape(-1,1)))\n",
    "plt.plot(scl.inverse_transform(Xt))"
   ]
  },
  {
   "cell_type": "code",
   "execution_count": 101,
   "metadata": {},
   "outputs": [],
   "source": [
    "valid = scl.inverse_transform(y_test.reshape(-1,1))"
   ]
  },
  {
   "cell_type": "code",
   "execution_count": 102,
   "metadata": {},
   "outputs": [],
   "source": [
    "closing_price=scl.inverse_transform(Xt)"
   ]
  },
  {
   "cell_type": "code",
   "execution_count": 103,
   "metadata": {},
   "outputs": [],
   "source": [
    "rms=np.sqrt(np.mean(np.power((valid-closing_price),2)))"
   ]
  },
  {
   "cell_type": "code",
   "execution_count": 104,
   "metadata": {},
   "outputs": [
    {
     "data": {
      "text/plain": [
       "167.08124907698422"
      ]
     },
     "execution_count": 104,
     "metadata": {},
     "output_type": "execute_result"
    }
   ],
   "source": [
    "rms"
   ]
  },
  {
   "cell_type": "code",
   "execution_count": 105,
   "metadata": {},
   "outputs": [
    {
     "data": {
      "text/plain": [
       "130.75557895581056"
      ]
     },
     "execution_count": 105,
     "metadata": {},
     "output_type": "execute_result"
    }
   ],
   "source": [
    "from sklearn.metrics import mean_absolute_error\n",
    "mean_absolute_error(valid,closing_price)"
   ]
  },
  {
   "cell_type": "code",
   "execution_count": 106,
   "metadata": {},
   "outputs": [
    {
     "data": {
      "text/plain": [
       "0.9718217883420035"
      ]
     },
     "execution_count": 106,
     "metadata": {},
     "output_type": "execute_result"
    }
   ],
   "source": [
    "from sklearn.metrics import r2_score\n",
    "r2_score(valid,closing_price)"
   ]
  },
  {
   "cell_type": "code",
   "execution_count": 60,
   "metadata": {},
   "outputs": [
    {
     "name": "stdout",
     "output_type": "stream",
     "text": [
      "predicted:[[10459.422]], actual:[[10328.889648]]\n"
     ]
    }
   ],
   "source": [
    "act = []\n",
    "pred = []\n",
    "#for i in range(250):\n",
    "i=249\n",
    "Xt = model.predict(X_test[i].reshape(1,7,1))\n",
    "print('predicted:{0}, actual:{1}'.format(scl.inverse_transform(Xt),scl.inverse_transform(y_test[i].reshape(-1,1))))\n",
    "pred.append(scl.inverse_transform(Xt))\n",
    "act.append(scl.inverse_transform(y_test[i].reshape(-1,1)))"
   ]
  },
  {
   "cell_type": "code",
   "execution_count": 61,
   "metadata": {},
   "outputs": [],
   "source": [
    "result_df = pd.DataFrame({'pred':list(np.reshape(pred, (-1))),'act':list(np.reshape(act, (-1)))})"
   ]
  },
  {
   "cell_type": "code",
   "execution_count": 62,
   "metadata": {},
   "outputs": [],
   "source": [
    "#result_df.plot(kind='line')"
   ]
  },
  {
   "cell_type": "code",
   "execution_count": 63,
   "metadata": {},
   "outputs": [
    {
     "data": {
      "image/png": "[encoded data removed]",
      "text/plain": [
       "<Figure size 1440x720 with 1 Axes>"
      ]
     },
     "metadata": {
      "needs_background": "light"
     },
     "output_type": "display_data"
    }
   ],
   "source": [
    "fig, ax = plt.subplots(figsize=(20, 10))\n",
    "plt.plot(scl.inverse_transform(y.reshape(-1,1)), color='b')\n",
    "\n",
    "Xtrain = model.predict(X_train)\n",
    "Xtest = model.predict(X_test)\n",
    "\n",
    "# plt.plot(scl.inverse_transform(y_test.reshape(-1,1)))\n",
    "split_pt = 2250 + 7 # window_size\n",
    "plt.plot(np.arange(7,split_pt,1), scl.inverse_transform(Xtrain), color='orange')\n",
    "plt.plot(np.arange(split_pt,split_pt+len(Xtest),1), scl.inverse_transform(Xtest), color='r')\n",
    "\n",
    "# pretty up graph\n",
    "plt.xlabel('day',fontsize=16)\n",
    "plt.ylabel('price of DonJones index',fontsize=16)\n",
    "plt.legend(['original series','training fit','testing fit'],loc='center left', bbox_to_anchor=(1, 0.5),prop={'size': 12})\n",
    "plt.show()"
   ]
  },
  {
   "cell_type": "code",
   "execution_count": 64,
   "metadata": {},
   "outputs": [
    {
     "data": {
      "text/plain": [
       "array([[0.49753984],\n",
       "       [0.50656911],\n",
       "       [0.51519006],\n",
       "       [0.51906927],\n",
       "       [0.51263016],\n",
       "       [0.51120188],\n",
       "       [0.49376037]])"
      ]
     },
     "execution_count": 64,
     "metadata": {},
     "output_type": "execute_result"
    }
   ],
   "source": [
    "X_test[249]"
   ]
  },
  {
   "cell_type": "code",
   "execution_count": 65,
   "metadata": {},
   "outputs": [
    {
     "data": {
      "text/plain": [
       "array([[0.4908342 ],\n",
       "       [0.49753984],\n",
       "       [0.50656911],\n",
       "       [0.51519006],\n",
       "       [0.51906927],\n",
       "       [0.51263016],\n",
       "       [0.51120188]])"
      ]
     },
     "execution_count": 65,
     "metadata": {},
     "output_type": "execute_result"
    }
   ],
   "source": [
    "X_test[248]"
   ]
  },
  {
   "cell_type": "markdown",
   "metadata": {},
   "source": [
    "# Step 6: Build and run an RNN model"
   ]
  },
  {
   "cell_type": "code",
   "execution_count": 74,
   "metadata": {},
   "outputs": [
    {
     "name": "stdout",
     "output_type": "stream",
     "text": [
      "Train on 2250 samples, validate on 256 samples\n",
      "Epoch 1/200\n",
      "2250/2250 [==============================] - 0s 218us/step - loss: 0.0247 - val_loss: 0.0020\n",
      "Epoch 2/200\n",
      "2250/2250 [==============================] - 0s 77us/step - loss: 0.0041 - val_loss: 0.0016\n",
      "Epoch 3/200\n",
      "2250/2250 [==============================] - 0s 64us/step - loss: 0.0033 - val_loss: 0.0015\n",
      "Epoch 4/200\n",
      "2250/2250 [==============================] - 0s 64us/step - loss: 0.0028 - val_loss: 0.0013\n",
      "Epoch 5/200\n",
      "2250/2250 [==============================] - 0s 64us/step - loss: 0.0025 - val_loss: 0.0012\n",
      "Epoch 6/200\n",
      "2250/2250 [==============================] - 0s 63us/step - loss: 0.0021 - val_loss: 0.0010\n",
      "Epoch 7/200\n",
      "2250/2250 [==============================] - 0s 62us/step - loss: 0.0018 - val_loss: 8.8210e-04\n",
      "Epoch 8/200\n",
      "2250/2250 [==============================] - 0s 62us/step - loss: 0.0016 - val_loss: 7.8199e-04\n",
      "Epoch 9/200\n",
      "2250/2250 [==============================] - 0s 65us/step - loss: 0.0014 - val_loss: 7.0531e-04\n",
      "Epoch 10/200\n",
      "2250/2250 [==============================] - 0s 59us/step - loss: 0.0012 - val_loss: 6.4704e-04\n",
      "Epoch 11/200\n",
      "2250/2250 [==============================] - 0s 63us/step - loss: 0.0011 - val_loss: 6.0239e-04\n",
      "Epoch 12/200\n",
      "2250/2250 [==============================] - 0s 63us/step - loss: 9.7868e-04 - val_loss: 5.6748e-04\n",
      "Epoch 13/200\n",
      "2250/2250 [==============================] - 0s 65us/step - loss: 8.9880e-04 - val_loss: 5.3955e-04\n",
      "Epoch 14/200\n",
      "2250/2250 [==============================] - 0s 64us/step - loss: 8.3582e-04 - val_loss: 5.1675e-04\n",
      "Epoch 15/200\n",
      "2250/2250 [==============================] - 0s 61us/step - loss: 7.8569e-04 - val_loss: 4.9786e-04\n",
      "Epoch 16/200\n",
      "2250/2250 [==============================] - 0s 63us/step - loss: 7.4538e-04 - val_loss: 4.8210e-04\n",
      "Epoch 17/200\n",
      "2250/2250 [==============================] - 0s 59us/step - loss: 7.1268e-04 - val_loss: 4.6891e-04\n",
      "Epoch 18/200\n",
      "2250/2250 [==============================] - 0s 58us/step - loss: 6.8597e-04 - val_loss: 4.5791e-04\n",
      "Epoch 19/200\n",
      "2250/2250 [==============================] - 0s 59us/step - loss: 6.6402e-04 - val_loss: 4.4883e-04\n",
      "Epoch 20/200\n",
      "2250/2250 [==============================] - 0s 59us/step - loss: 6.4593e-04 - val_loss: 4.4140e-04\n",
      "Epoch 21/200\n",
      "2250/2250 [==============================] - 0s 59us/step - loss: 6.3095e-04 - val_loss: 4.3548e-04\n",
      "Epoch 22/200\n",
      "2250/2250 [==============================] - 0s 59us/step - loss: 6.1853e-04 - val_loss: 4.3095e-04\n",
      "Epoch 23/200\n",
      "2250/2250 [==============================] - 0s 59us/step - loss: 6.0822e-04 - val_loss: 4.2768e-04\n",
      "Epoch 24/200\n",
      "2250/2250 [==============================] - 0s 60us/step - loss: 5.9963e-04 - val_loss: 4.2560e-04\n",
      "Epoch 25/200\n",
      "2250/2250 [==============================] - 0s 69us/step - loss: 5.9242e-04 - val_loss: 4.2463e-04\n",
      "Epoch 26/200\n",
      "2250/2250 [==============================] - 0s 59us/step - loss: 5.8631e-04 - val_loss: 4.2472e-04\n",
      "Epoch 27/200\n",
      "2250/2250 [==============================] - 0s 58us/step - loss: 5.8104e-04 - val_loss: 4.2581e-04\n",
      "Epoch 28/200\n",
      "2250/2250 [==============================] - 0s 59us/step - loss: 5.7640e-04 - val_loss: 4.2784e-04\n",
      "Epoch 29/200\n",
      "2250/2250 [==============================] - 0s 59us/step - loss: 5.7217e-04 - val_loss: 4.3072e-04\n",
      "Epoch 30/200\n",
      "2250/2250 [==============================] - 0s 70us/step - loss: 5.6819e-04 - val_loss: 4.3437e-04\n",
      "Epoch 31/200\n",
      "2250/2250 [==============================] - 0s 58us/step - loss: 5.6431e-04 - val_loss: 4.3869e-04\n",
      "Epoch 32/200\n",
      "2250/2250 [==============================] - 0s 59us/step - loss: 5.6040e-04 - val_loss: 4.4356e-04\n",
      "Epoch 33/200\n",
      "2250/2250 [==============================] - 0s 62us/step - loss: 5.5638e-04 - val_loss: 4.4885e-04\n",
      "Epoch 34/200\n",
      "2250/2250 [==============================] - 0s 79us/step - loss: 5.5216e-04 - val_loss: 4.5441e-04\n",
      "Epoch 35/200\n",
      "2250/2250 [==============================] - 0s 61us/step - loss: 5.4769e-04 - val_loss: 4.6012e-04\n",
      "Epoch 36/200\n",
      "2250/2250 [==============================] - 0s 61us/step - loss: 5.4294e-04 - val_loss: 4.6581e-04\n",
      "Epoch 37/200\n",
      "2250/2250 [==============================] - 0s 65us/step - loss: 5.3790e-04 - val_loss: 4.7137e-04\n",
      "Epoch 38/200\n",
      "2250/2250 [==============================] - 0s 59us/step - loss: 5.3257e-04 - val_loss: 4.7668e-04\n",
      "Epoch 39/200\n",
      "2250/2250 [==============================] - 0s 60us/step - loss: 5.2696e-04 - val_loss: 4.8164e-04\n",
      "Epoch 40/200\n",
      "2250/2250 [==============================] - 0s 58us/step - loss: 5.2110e-04 - val_loss: 4.8619e-04\n",
      "Epoch 41/200\n",
      "2250/2250 [==============================] - 0s 57us/step - loss: 5.1503e-04 - val_loss: 4.9026e-04\n",
      "Epoch 42/200\n",
      "2250/2250 [==============================] - 0s 59us/step - loss: 5.0877e-04 - val_loss: 4.9384e-04\n",
      "Epoch 43/200\n",
      "2250/2250 [==============================] - 0s 59us/step - loss: 5.0238e-04 - val_loss: 4.9692e-04\n",
      "Epoch 44/200\n",
      "2250/2250 [==============================] - 0s 59us/step - loss: 4.9590e-04 - val_loss: 4.9949e-04\n",
      "Epoch 45/200\n",
      "2250/2250 [==============================] - 0s 60us/step - loss: 4.8938e-04 - val_loss: 5.0159e-04\n",
      "Epoch 46/200\n",
      "2250/2250 [==============================] - 0s 62us/step - loss: 4.8288e-04 - val_loss: 5.0323e-04\n",
      "Epoch 47/200\n",
      "2250/2250 [==============================] - 0s 62us/step - loss: 4.7645e-04 - val_loss: 5.0447e-04\n",
      "Epoch 48/200\n",
      "2250/2250 [==============================] - 0s 65us/step - loss: 4.7015e-04 - val_loss: 5.0535e-04\n",
      "Epoch 49/200\n",
      "2250/2250 [==============================] - 0s 62us/step - loss: 4.6403e-04 - val_loss: 5.0593e-04\n",
      "Epoch 50/200\n",
      "2250/2250 [==============================] - 0s 63us/step - loss: 4.5816e-04 - val_loss: 5.0626e-04\n",
      "Epoch 51/200\n",
      "2250/2250 [==============================] - 0s 61us/step - loss: 4.5258e-04 - val_loss: 5.0640e-04\n",
      "Epoch 52/200\n",
      "2250/2250 [==============================] - 0s 76us/step - loss: 4.4735e-04 - val_loss: 5.0643e-04\n",
      "Epoch 53/200\n",
      "2250/2250 [==============================] - 0s 71us/step - loss: 4.4252e-04 - val_loss: 5.0642e-04\n",
      "Epoch 54/200\n",
      "2250/2250 [==============================] - 0s 69us/step - loss: 4.3810e-04 - val_loss: 5.0642e-04\n",
      "Epoch 55/200\n",
      "2250/2250 [==============================] - 0s 57us/step - loss: 4.3414e-04 - val_loss: 5.0649e-04\n",
      "Epoch 56/200\n",
      "2250/2250 [==============================] - 0s 61us/step - loss: 4.3065e-04 - val_loss: 5.0667e-04\n",
      "Epoch 57/200\n",
      "2250/2250 [==============================] - 0s 61us/step - loss: 4.2762e-04 - val_loss: 5.0701e-04\n",
      "Epoch 58/200\n",
      "2250/2250 [==============================] - 0s 58us/step - loss: 4.2505e-04 - val_loss: 5.0751e-04\n",
      "Epoch 59/200\n",
      "2250/2250 [==============================] - 0s 61us/step - loss: 4.2290e-04 - val_loss: 5.0817e-04\n",
      "Epoch 60/200\n",
      "2250/2250 [==============================] - 0s 56us/step - loss: 4.2115e-04 - val_loss: 5.0899e-04\n",
      "Epoch 61/200\n",
      "2250/2250 [==============================] - 0s 58us/step - loss: 4.1976e-04 - val_loss: 5.0993e-04\n",
      "Epoch 62/200\n",
      "2250/2250 [==============================] - 0s 57us/step - loss: 4.1868e-04 - val_loss: 5.1098e-04\n",
      "Epoch 63/200\n",
      "2250/2250 [==============================] - 0s 57us/step - loss: 4.1786e-04 - val_loss: 5.1209e-04\n",
      "Epoch 64/200\n",
      "2250/2250 [==============================] - 0s 58us/step - loss: 4.1725e-04 - val_loss: 5.1325e-04\n",
      "Epoch 65/200\n",
      "2250/2250 [==============================] - 0s 59us/step - loss: 4.1682e-04 - val_loss: 5.1442e-04\n",
      "Epoch 66/200\n",
      "2250/2250 [==============================] - 0s 59us/step - loss: 4.1651e-04 - val_loss: 5.1559e-04\n",
      "Epoch 67/200\n",
      "2250/2250 [==============================] - 0s 56us/step - loss: 4.1630e-04 - val_loss: 5.1676e-04\n",
      "Epoch 68/200\n",
      "2250/2250 [==============================] - 0s 56us/step - loss: 4.1616e-04 - val_loss: 5.1791e-04\n",
      "Epoch 69/200\n",
      "2250/2250 [==============================] - 0s 57us/step - loss: 4.1607e-04 - val_loss: 5.1904e-04\n",
      "Epoch 70/200\n",
      "2250/2250 [==============================] - 0s 58us/step - loss: 4.1601e-04 - val_loss: 5.2019e-04\n",
      "Epoch 71/200\n",
      "2250/2250 [==============================] - 0s 57us/step - loss: 4.1584e-04 - val_loss: 5.1985e-04\n",
      "Epoch 72/200\n",
      "2250/2250 [==============================] - 0s 62us/step - loss: 4.1001e-04 - val_loss: 5.0784e-04\n",
      "Epoch 73/200\n",
      "2250/2250 [==============================] - 0s 57us/step - loss: 3.9142e-04 - val_loss: 5.0368e-04\n"
     ]
    },
    {
     "name": "stdout",
     "output_type": "stream",
     "text": [
      "Epoch 74/200\n",
      "2250/2250 [==============================] - 0s 59us/step - loss: 4.2625e-04 - val_loss: 5.4274e-04\n",
      "Epoch 75/200\n",
      "2250/2250 [==============================] - 0s 56us/step - loss: 4.1216e-04 - val_loss: 5.2903e-04\n",
      "Epoch 76/200\n",
      "2250/2250 [==============================] - 0s 57us/step - loss: 4.3414e-04 - val_loss: 5.4432e-04\n",
      "Epoch 77/200\n",
      "2250/2250 [==============================] - 0s 56us/step - loss: 4.1975e-04 - val_loss: 5.3459e-04\n",
      "Epoch 78/200\n",
      "2250/2250 [==============================] - 0s 61us/step - loss: 4.3633e-04 - val_loss: 5.5122e-04\n",
      "Epoch 79/200\n",
      "2250/2250 [==============================] - 0s 57us/step - loss: 4.4056e-04 - val_loss: 5.6746e-04\n",
      "Epoch 80/200\n",
      "2250/2250 [==============================] - 0s 60us/step - loss: 4.4086e-04 - val_loss: 5.9153e-04\n",
      "Epoch 81/200\n",
      "2250/2250 [==============================] - 0s 60us/step - loss: 4.5387e-04 - val_loss: 5.9220e-04\n",
      "Epoch 82/200\n",
      "2250/2250 [==============================] - 0s 60us/step - loss: 3.9898e-04 - val_loss: 5.3305e-04\n",
      "Epoch 83/200\n",
      "2250/2250 [==============================] - 0s 60us/step - loss: 4.2233e-04 - val_loss: 5.6032e-04\n",
      "Epoch 84/200\n",
      "2250/2250 [==============================] - 0s 65us/step - loss: 4.3256e-04 - val_loss: 5.6112e-04\n",
      "Epoch 85/200\n",
      "2250/2250 [==============================] - 0s 59us/step - loss: 4.4546e-04 - val_loss: 5.8559e-04\n",
      "Epoch 86/200\n",
      "2250/2250 [==============================] - 0s 61us/step - loss: 4.2909e-04 - val_loss: 5.9301e-04\n",
      "Epoch 87/200\n",
      "2250/2250 [==============================] - 0s 57us/step - loss: 4.3451e-04 - val_loss: 5.8265e-04\n",
      "Epoch 88/200\n",
      "2250/2250 [==============================] - 0s 59us/step - loss: 4.5717e-04 - val_loss: 5.9599e-04\n",
      "Epoch 89/200\n",
      "2250/2250 [==============================] - ETA: 0s - loss: 3.4094e-0 - 0s 58us/step - loss: 4.2688e-04 - val_loss: 5.5580e-04\n",
      "Epoch 90/200\n",
      "2250/2250 [==============================] - 0s 61us/step - loss: 4.4256e-04 - val_loss: 5.4997e-04\n",
      "Epoch 91/200\n",
      "2250/2250 [==============================] - 0s 62us/step - loss: 4.3945e-04 - val_loss: 5.4988e-04\n",
      "Epoch 92/200\n",
      "2250/2250 [==============================] - 0s 61us/step - loss: 4.4070e-04 - val_loss: 5.7097e-04\n",
      "Epoch 93/200\n",
      "2250/2250 [==============================] - 0s 60us/step - loss: 4.4210e-04 - val_loss: 6.0822e-04\n",
      "Epoch 94/200\n",
      "2250/2250 [==============================] - 0s 57us/step - loss: 4.2820e-04 - val_loss: 6.5398e-04\n",
      "Epoch 95/200\n",
      "2250/2250 [==============================] - 0s 56us/step - loss: 4.3352e-04 - val_loss: 6.5356e-04\n",
      "Epoch 96/200\n",
      "2250/2250 [==============================] - 0s 65us/step - loss: 4.3258e-04 - val_loss: 6.4689e-04\n",
      "Epoch 97/200\n",
      "2250/2250 [==============================] - 0s 56us/step - loss: 4.4902e-04 - val_loss: 6.2306e-04\n",
      "Epoch 98/200\n",
      "2250/2250 [==============================] - 0s 60us/step - loss: 4.4234e-04 - val_loss: 6.3571e-04\n",
      "Epoch 99/200\n",
      "2250/2250 [==============================] - 0s 62us/step - loss: 4.4888e-04 - val_loss: 6.1319e-04\n",
      "Epoch 100/200\n",
      "2250/2250 [==============================] - 0s 61us/step - loss: 4.3312e-04 - val_loss: 5.9638e-04\n",
      "Epoch 101/200\n",
      "2250/2250 [==============================] - 0s 58us/step - loss: 4.4020e-04 - val_loss: 5.7925e-04\n",
      "Epoch 102/200\n",
      "2250/2250 [==============================] - 0s 56us/step - loss: 4.3977e-04 - val_loss: 5.7591e-04\n",
      "Epoch 103/200\n",
      "2250/2250 [==============================] - 0s 56us/step - loss: 4.4764e-04 - val_loss: 5.8220e-04\n",
      "Epoch 104/200\n",
      "2250/2250 [==============================] - 0s 59us/step - loss: 4.1201e-04 - val_loss: 5.3948e-04\n",
      "Epoch 105/200\n",
      "2250/2250 [==============================] - 0s 59us/step - loss: 4.2437e-04 - val_loss: 5.9617e-04\n",
      "Epoch 106/200\n",
      "2250/2250 [==============================] - 0s 64us/step - loss: 4.3668e-04 - val_loss: 6.3551e-04\n",
      "Epoch 107/200\n",
      "2250/2250 [==============================] - 0s 61us/step - loss: 4.2145e-04 - val_loss: 6.4277e-04\n",
      "Epoch 108/200\n",
      "2250/2250 [==============================] - 0s 60us/step - loss: 4.3622e-04 - val_loss: 6.1499e-04\n",
      "Epoch 109/200\n",
      "2250/2250 [==============================] - 0s 57us/step - loss: 4.2708e-04 - val_loss: 6.0847e-04\n",
      "Epoch 110/200\n",
      "2250/2250 [==============================] - 0s 56us/step - loss: 4.2819e-04 - val_loss: 5.6173e-04\n",
      "Epoch 111/200\n",
      "2250/2250 [==============================] - 0s 60us/step - loss: 4.1241e-04 - val_loss: 5.6410e-04\n",
      "Epoch 112/200\n",
      "2250/2250 [==============================] - 0s 57us/step - loss: 4.2734e-04 - val_loss: 5.9046e-04\n",
      "Epoch 113/200\n",
      "2250/2250 [==============================] - 0s 59us/step - loss: 4.3181e-04 - val_loss: 6.0962e-04\n",
      "Epoch 114/200\n",
      "2250/2250 [==============================] - 0s 58us/step - loss: 4.3120e-04 - val_loss: 6.0909e-04\n",
      "Epoch 115/200\n",
      "2250/2250 [==============================] - 0s 58us/step - loss: 4.3211e-04 - val_loss: 6.2466e-04\n",
      "Epoch 116/200\n",
      "2250/2250 [==============================] - 0s 58us/step - loss: 4.2207e-04 - val_loss: 6.3696e-04\n",
      "Epoch 117/200\n",
      "2250/2250 [==============================] - 0s 58us/step - loss: 4.2868e-04 - val_loss: 6.2234e-04\n",
      "Epoch 118/200\n",
      "2250/2250 [==============================] - 0s 56us/step - loss: 4.2648e-04 - val_loss: 5.9572e-04\n",
      "Epoch 119/200\n",
      "2250/2250 [==============================] - 0s 58us/step - loss: 4.3141e-04 - val_loss: 6.0534e-04\n",
      "Epoch 120/200\n",
      "2250/2250 [==============================] - 0s 62us/step - loss: 4.3827e-04 - val_loss: 5.8593e-04\n",
      "Epoch 121/200\n",
      "2250/2250 [==============================] - 0s 61us/step - loss: 4.1631e-04 - val_loss: 5.7388e-04\n",
      "Epoch 122/200\n",
      "2250/2250 [==============================] - 0s 63us/step - loss: 4.3378e-04 - val_loss: 6.0366e-04\n",
      "Epoch 123/200\n",
      "2250/2250 [==============================] - 0s 62us/step - loss: 4.2088e-04 - val_loss: 5.8682e-04\n",
      "Epoch 124/200\n",
      "2250/2250 [==============================] - 0s 63us/step - loss: 4.3062e-04 - val_loss: 5.6449e-04\n",
      "Epoch 125/200\n",
      "2250/2250 [==============================] - 0s 61us/step - loss: 4.3301e-04 - val_loss: 6.3474e-04\n",
      "Epoch 126/200\n",
      "2250/2250 [==============================] - 0s 62us/step - loss: 4.2228e-04 - val_loss: 6.3462e-04\n",
      "Epoch 127/200\n",
      "2250/2250 [==============================] - 0s 59us/step - loss: 4.1974e-04 - val_loss: 6.0709e-04\n",
      "Epoch 128/200\n",
      "2250/2250 [==============================] - 0s 58us/step - loss: 4.1924e-04 - val_loss: 5.9340e-04\n",
      "Epoch 129/200\n",
      "2250/2250 [==============================] - 0s 60us/step - loss: 4.3027e-04 - val_loss: 5.6795e-04\n",
      "Epoch 130/200\n",
      "2250/2250 [==============================] - 0s 59us/step - loss: 4.0992e-04 - val_loss: 5.7389e-04\n",
      "Epoch 131/200\n",
      "2250/2250 [==============================] - 0s 60us/step - loss: 4.3393e-04 - val_loss: 6.1039e-04\n",
      "Epoch 132/200\n",
      "2250/2250 [==============================] - 0s 62us/step - loss: 4.0746e-04 - val_loss: 5.8143e-04\n",
      "Epoch 133/200\n",
      "2250/2250 [==============================] - 0s 75us/step - loss: 4.3242e-04 - val_loss: 6.0795e-04\n",
      "Epoch 134/200\n",
      "2250/2250 [==============================] - 0s 88us/step - loss: 4.2950e-04 - val_loss: 5.7465e-04\n",
      "Epoch 135/200\n",
      "2250/2250 [==============================] - 0s 93us/step - loss: 4.1813e-04 - val_loss: 5.8088e-04\n",
      "Epoch 136/200\n",
      "2250/2250 [==============================] - 0s 92us/step - loss: 4.2426e-04 - val_loss: 6.3542e-04\n",
      "Epoch 137/200\n",
      "2250/2250 [==============================] - 0s 86us/step - loss: 4.2389e-04 - val_loss: 6.1279e-04\n",
      "Epoch 138/200\n",
      "2250/2250 [==============================] - 0s 86us/step - loss: 4.2130e-04 - val_loss: 6.0514e-04\n",
      "Epoch 139/200\n",
      "2250/2250 [==============================] - 0s 87us/step - loss: 4.0884e-04 - val_loss: 5.7802e-04\n",
      "Epoch 140/200\n",
      "2250/2250 [==============================] - 0s 89us/step - loss: 4.2853e-04 - val_loss: 6.3203e-04\n",
      "Epoch 141/200\n",
      "2250/2250 [==============================] - 0s 81us/step - loss: 4.1401e-04 - val_loss: 6.0402e-04\n",
      "Epoch 142/200\n",
      "2250/2250 [==============================] - 0s 72us/step - loss: 4.2684e-04 - val_loss: 5.8229e-04\n",
      "Epoch 143/200\n",
      "2250/2250 [==============================] - 0s 70us/step - loss: 4.1931e-04 - val_loss: 5.9888e-04\n",
      "Epoch 144/200\n",
      "2250/2250 [==============================] - 0s 74us/step - loss: 4.3611e-04 - val_loss: 5.5856e-04\n",
      "Epoch 145/200\n",
      "2250/2250 [==============================] - 0s 93us/step - loss: 4.2005e-04 - val_loss: 6.3872e-04\n"
     ]
    },
    {
     "name": "stdout",
     "output_type": "stream",
     "text": [
      "Epoch 146/200\n",
      "2250/2250 [==============================] - 0s 78us/step - loss: 4.3789e-04 - val_loss: 6.6279e-04\n",
      "Epoch 147/200\n",
      "2250/2250 [==============================] - 0s 74us/step - loss: 4.2375e-04 - val_loss: 6.4617e-04\n",
      "Epoch 148/200\n",
      "2250/2250 [==============================] - 0s 71us/step - loss: 4.3734e-04 - val_loss: 6.5968e-04\n",
      "Epoch 149/200\n",
      "2250/2250 [==============================] - 0s 73us/step - loss: 4.2904e-04 - val_loss: 6.1566e-04\n",
      "Epoch 150/200\n",
      "2250/2250 [==============================] - 0s 75us/step - loss: 4.3975e-04 - val_loss: 6.2407e-04\n",
      "Epoch 151/200\n",
      "2250/2250 [==============================] - 0s 69us/step - loss: 4.4182e-04 - val_loss: 6.3784e-04\n",
      "Epoch 152/200\n",
      "2250/2250 [==============================] - 0s 76us/step - loss: 4.5006e-04 - val_loss: 5.9456e-04\n",
      "Epoch 153/200\n",
      "2250/2250 [==============================] - 0s 88us/step - loss: 4.3611e-04 - val_loss: 5.9177e-04\n",
      "Epoch 154/200\n",
      "2250/2250 [==============================] - 0s 72us/step - loss: 4.3041e-04 - val_loss: 6.6369e-04\n",
      "Epoch 155/200\n",
      "2250/2250 [==============================] - 0s 72us/step - loss: 4.3289e-04 - val_loss: 6.0920e-04\n",
      "Epoch 156/200\n",
      "2250/2250 [==============================] - 0s 68us/step - loss: 4.3222e-04 - val_loss: 6.0667e-04\n",
      "Epoch 157/200\n",
      "2250/2250 [==============================] - 0s 69us/step - loss: 4.4913e-04 - val_loss: 6.8902e-04\n",
      "Epoch 158/200\n",
      "2250/2250 [==============================] - 0s 70us/step - loss: 4.3405e-04 - val_loss: 6.3129e-04\n",
      "Epoch 159/200\n",
      "2250/2250 [==============================] - 0s 79us/step - loss: 4.3259e-04 - val_loss: 7.1020e-04\n",
      "Epoch 160/200\n",
      "2250/2250 [==============================] - 0s 71us/step - loss: 4.3744e-04 - val_loss: 7.3201e-04\n",
      "Epoch 161/200\n",
      "2250/2250 [==============================] - 0s 71us/step - loss: 4.2466e-04 - val_loss: 7.4287e-04\n",
      "Epoch 162/200\n",
      "2250/2250 [==============================] - 0s 76us/step - loss: 4.5178e-04 - val_loss: 7.3869e-04\n",
      "Epoch 163/200\n",
      "2250/2250 [==============================] - 0s 91us/step - loss: 4.2436e-04 - val_loss: 6.2171e-04\n",
      "Epoch 164/200\n",
      "2250/2250 [==============================] - 0s 81us/step - loss: 3.8077e-04 - val_loss: 5.2056e-04\n",
      "Epoch 165/200\n",
      "2250/2250 [==============================] - 0s 84us/step - loss: 4.0907e-04 - val_loss: 7.1151e-04\n",
      "Epoch 166/200\n",
      "2250/2250 [==============================] - 0s 71us/step - loss: 4.4501e-04 - val_loss: 7.8250e-04\n",
      "Epoch 167/200\n",
      "2250/2250 [==============================] - 0s 70us/step - loss: 4.5699e-04 - val_loss: 6.7879e-04\n",
      "Epoch 168/200\n",
      "2250/2250 [==============================] - 0s 69us/step - loss: 4.6602e-04 - val_loss: 7.2579e-04\n",
      "Epoch 169/200\n",
      "2250/2250 [==============================] - 0s 69us/step - loss: 4.3614e-04 - val_loss: 6.7596e-04\n",
      "Epoch 170/200\n",
      "2250/2250 [==============================] - 0s 68us/step - loss: 4.4942e-04 - val_loss: 7.7179e-04\n",
      "Epoch 171/200\n",
      "2250/2250 [==============================] - 0s 72us/step - loss: 4.1082e-04 - val_loss: 5.7849e-04\n",
      "Epoch 172/200\n",
      "2250/2250 [==============================] - 0s 78us/step - loss: 4.1900e-04 - val_loss: 7.2858e-04\n",
      "Epoch 173/200\n",
      "2250/2250 [==============================] - 0s 84us/step - loss: 4.5719e-04 - val_loss: 6.5318e-04\n",
      "Epoch 174/200\n",
      "2250/2250 [==============================] - ETA: 0s - loss: 3.7983e-0 - 0s 78us/step - loss: 4.5724e-04 - val_loss: 6.7986e-04\n",
      "Epoch 175/200\n",
      "2250/2250 [==============================] - 0s 73us/step - loss: 4.2108e-04 - val_loss: 5.4993e-04\n",
      "Epoch 176/200\n",
      "2250/2250 [==============================] - 0s 74us/step - loss: 4.1457e-04 - val_loss: 6.0842e-04\n",
      "Epoch 177/200\n",
      "2250/2250 [==============================] - 0s 71us/step - loss: 4.7515e-04 - val_loss: 7.4110e-04\n",
      "Epoch 178/200\n",
      "2250/2250 [==============================] - 0s 68us/step - loss: 4.3301e-04 - val_loss: 6.0756e-04\n",
      "Epoch 179/200\n",
      "2250/2250 [==============================] - 0s 90us/step - loss: 4.4609e-04 - val_loss: 7.6227e-04\n",
      "Epoch 180/200\n",
      "2250/2250 [==============================] - 0s 92us/step - loss: 4.5031e-04 - val_loss: 8.0916e-04\n",
      "Epoch 181/200\n",
      "2250/2250 [==============================] - 0s 82us/step - loss: 4.4437e-04 - val_loss: 8.8186e-04\n",
      "Epoch 182/200\n",
      "2250/2250 [==============================] - 0s 76us/step - loss: 4.7215e-04 - val_loss: 7.5786e-04\n",
      "Epoch 183/200\n",
      "2250/2250 [==============================] - 0s 77us/step - loss: 5.3447e-04 - val_loss: 0.0010\n",
      "Epoch 184/200\n",
      "2250/2250 [==============================] - 0s 73us/step - loss: 5.1880e-04 - val_loss: 0.0011\n",
      "Epoch 185/200\n",
      "2250/2250 [==============================] - 0s 73us/step - loss: 5.2117e-04 - val_loss: 0.0010\n",
      "Epoch 186/200\n",
      "2250/2250 [==============================] - 0s 78us/step - loss: 5.6942e-04 - val_loss: 7.4800e-04\n",
      "Epoch 187/200\n",
      "2250/2250 [==============================] - 0s 77us/step - loss: 5.2839e-04 - val_loss: 6.8502e-04\n",
      "Epoch 188/200\n",
      "2250/2250 [==============================] - 0s 76us/step - loss: 5.8531e-04 - val_loss: 5.2417e-04\n",
      "Epoch 189/200\n",
      "2250/2250 [==============================] - 0s 76us/step - loss: 6.7748e-04 - val_loss: 6.1450e-04\n",
      "Epoch 190/200\n",
      "2250/2250 [==============================] - 0s 73us/step - loss: 5.7957e-04 - val_loss: 0.0011\n",
      "Epoch 191/200\n",
      "2250/2250 [==============================] - 0s 78us/step - loss: 6.3962e-04 - val_loss: 8.4780e-04\n",
      "Epoch 192/200\n",
      "2250/2250 [==============================] - 0s 79us/step - loss: 7.5392e-04 - val_loss: 9.3963e-04\n",
      "Epoch 193/200\n",
      "2250/2250 [==============================] - 0s 75us/step - loss: 8.1485e-04 - val_loss: 0.0012\n",
      "Epoch 194/200\n",
      "2250/2250 [==============================] - 0s 76us/step - loss: 8.1445e-04 - val_loss: 0.0013\n",
      "Epoch 195/200\n",
      "2250/2250 [==============================] - 0s 72us/step - loss: 8.2533e-04 - val_loss: 0.0010\n",
      "Epoch 196/200\n",
      "2250/2250 [==============================] - 0s 80us/step - loss: 8.1844e-04 - val_loss: 9.8898e-04\n",
      "Epoch 197/200\n",
      "2250/2250 [==============================] - 0s 85us/step - loss: 7.2881e-04 - val_loss: 8.3674e-04\n",
      "Epoch 198/200\n",
      "2250/2250 [==============================] - 0s 85us/step - loss: 5.9002e-04 - val_loss: 4.9047e-04\n",
      "Epoch 199/200\n",
      "2250/2250 [==============================] - 0s 79us/step - loss: 6.8684e-04 - val_loss: 5.8192e-04\n",
      "Epoch 200/200\n",
      "2250/2250 [==============================] - 0s 71us/step - loss: 7.3886e-04 - val_loss: 8.7705e-04\n"
     ]
    }
   ],
   "source": [
    "#Build the model\n",
    "model_rnn = Sequential()\n",
    "model_rnn.add(SimpleRNN(64,input_shape=(7,1)))\n",
    "model_rnn.add(Dense(1))\n",
    "model_rnn.compile(optimizer='adam',loss='mse')\n",
    "#Reshape data for (Sample,Timestep,Features) \n",
    "X_train = X_train.reshape((X_train.shape[0],X_train.shape[1],1))\n",
    "X_test = X_test.reshape((X_test.shape[0],X_test.shape[1],1))\n",
    "#Fit model with history to check for overfitting\n",
    "history_rnn = model_rnn.fit(X_train,y_train,epochs=200,validation_data=(X_test,y_test),shuffle=False,callbacks=[time_callback])"
   ]
  },
  {
   "cell_type": "code",
   "execution_count": 75,
   "metadata": {},
   "outputs": [],
   "source": [
    "training_time_rnn = time_callback.times"
   ]
  },
  {
   "cell_type": "code",
   "execution_count": 76,
   "metadata": {},
   "outputs": [
    {
     "data": {
      "text/plain": [
       "30.335023641586304"
      ]
     },
     "execution_count": 76,
     "metadata": {},
     "output_type": "execute_result"
    }
   ],
   "source": [
    "sum(training_time_rnn)"
   ]
  },
  {
   "cell_type": "code",
   "execution_count": 118,
   "metadata": {},
   "outputs": [
    {
     "data": {
      "image/png": "[encoded data removed]",
      "text/plain": [
       "<Figure size 720x576 with 1 Axes>"
      ]
     },
     "metadata": {
      "needs_background": "light"
     },
     "output_type": "display_data"
    }
   ],
   "source": [
    "plt.figure(figsize = (10,8))\n",
    "plt.plot(history_rnn.history['loss'])\n",
    "plt.plot(history_rnn.history['val_loss'])\n",
    "plt.title('vanilla rnn')\n",
    "plt.show()"
   ]
  },
  {
   "cell_type": "code",
   "execution_count": 78,
   "metadata": {},
   "outputs": [],
   "source": [
    "Xt_rnn = model_rnn.predict(X_test)"
   ]
  },
  {
   "cell_type": "code",
   "execution_count": 81,
   "metadata": {},
   "outputs": [],
   "source": [
    "closing_price_rnn=scl.inverse_transform(Xt_rnn)"
   ]
  },
  {
   "cell_type": "code",
   "execution_count": 82,
   "metadata": {},
   "outputs": [
    {
     "data": {
      "text/plain": [
       "225.59227381663746"
      ]
     },
     "execution_count": 82,
     "metadata": {},
     "output_type": "execute_result"
    }
   ],
   "source": [
    "rms_rnn=np.sqrt(np.mean(np.power((valid-closing_price_rnn),2)))\n",
    "rms_rnn"
   ]
  },
  {
   "cell_type": "code",
   "execution_count": 83,
   "metadata": {},
   "outputs": [
    {
     "data": {
      "text/plain": [
       "176.75850104174805"
      ]
     },
     "execution_count": 83,
     "metadata": {},
     "output_type": "execute_result"
    }
   ],
   "source": [
    "from sklearn.metrics import mean_absolute_error\n",
    "mean_absolute_error(valid,closing_price_rnn)"
   ]
  },
  {
   "cell_type": "code",
   "execution_count": 84,
   "metadata": {},
   "outputs": [
    {
     "data": {
      "text/plain": [
       "0.948630369293356"
      ]
     },
     "execution_count": 84,
     "metadata": {},
     "output_type": "execute_result"
    }
   ],
   "source": [
    "from sklearn.metrics import r2_score\n",
    "r2_score(valid,closing_price_rnn)"
   ]
  },
  {
   "cell_type": "markdown",
   "metadata": {},
   "source": [
    "# Step 7: Build and run GRU model"
   ]
  },
  {
   "cell_type": "code",
   "execution_count": 108,
   "metadata": {},
   "outputs": [
    {
     "name": "stdout",
     "output_type": "stream",
     "text": [
      "Train on 2250 samples, validate on 256 samples\n",
      "Epoch 1/200\n",
      "2250/2250 [==============================] - 1s 529us/step - loss: 0.0332 - val_loss: 0.0090\n",
      "Epoch 2/200\n",
      "2250/2250 [==============================] - 0s 181us/step - loss: 0.0020 - val_loss: 0.0067\n",
      "Epoch 3/200\n",
      "2250/2250 [==============================] - 0s 171us/step - loss: 0.0018 - val_loss: 0.0045\n",
      "Epoch 4/200\n",
      "2250/2250 [==============================] - 0s 159us/step - loss: 0.0015 - val_loss: 0.0029\n",
      "Epoch 5/200\n",
      "2250/2250 [==============================] - 0s 166us/step - loss: 0.0013 - val_loss: 0.0017\n",
      "Epoch 6/200\n",
      "2250/2250 [==============================] - 0s 163us/step - loss: 0.0010 - val_loss: 0.0011\n",
      "Epoch 7/200\n",
      "2250/2250 [==============================] - 0s 159us/step - loss: 8.8031e-04 - val_loss: 7.9282e-04\n",
      "Epoch 8/200\n",
      "2250/2250 [==============================] - 0s 184us/step - loss: 7.7384e-04 - val_loss: 6.6455e-04\n",
      "Epoch 9/200\n",
      "2250/2250 [==============================] - 0s 162us/step - loss: 7.0841e-04 - val_loss: 6.1288e-04\n",
      "Epoch 10/200\n",
      "2250/2250 [==============================] - 0s 162us/step - loss: 6.7179e-04 - val_loss: 5.9088e-04\n",
      "Epoch 11/200\n",
      "2250/2250 [==============================] - 0s 159us/step - loss: 6.5428e-04 - val_loss: 5.8170e-04\n",
      "Epoch 12/200\n",
      "2250/2250 [==============================] - 0s 166us/step - loss: 6.4923e-04 - val_loss: 5.7937e-04\n",
      "Epoch 13/200\n",
      "2250/2250 [==============================] - 0s 167us/step - loss: 6.5241e-04 - val_loss: 5.8118e-04\n",
      "Epoch 14/200\n",
      "2250/2250 [==============================] - 0s 169us/step - loss: 6.6111e-04 - val_loss: 5.8535e-04\n",
      "Epoch 15/200\n",
      "2250/2250 [==============================] - 0s 168us/step - loss: 6.7361e-04 - val_loss: 5.9038e-04\n",
      "Epoch 16/200\n",
      "2250/2250 [==============================] - 0s 164us/step - loss: 6.8859e-04 - val_loss: 5.9488e-04\n",
      "Epoch 17/200\n",
      "2250/2250 [==============================] - 0s 160us/step - loss: 7.0480e-04 - val_loss: 5.9757e-04\n",
      "Epoch 18/200\n",
      "2250/2250 [==============================] - 0s 160us/step - loss: 7.2091e-04 - val_loss: 5.9732e-04\n",
      "Epoch 19/200\n",
      "2250/2250 [==============================] - 0s 162us/step - loss: 7.3530e-04 - val_loss: 5.9324e-04\n",
      "Epoch 20/200\n",
      "2250/2250 [==============================] - 0s 157us/step - loss: 7.4613e-04 - val_loss: 5.8478e-04\n",
      "Epoch 21/200\n",
      "2250/2250 [==============================] - 0s 167us/step - loss: 7.5165e-04 - val_loss: 5.7196e-04\n",
      "Epoch 22/200\n",
      "2250/2250 [==============================] - 0s 158us/step - loss: 7.5059e-04 - val_loss: 5.5538e-04\n",
      "Epoch 23/200\n",
      "2250/2250 [==============================] - 0s 161us/step - loss: 7.4270e-04 - val_loss: 5.3620e-04\n",
      "Epoch 24/200\n",
      "2250/2250 [==============================] - 0s 161us/step - loss: 7.2891e-04 - val_loss: 5.1593e-04\n",
      "Epoch 25/200\n",
      "2250/2250 [==============================] - 0s 172us/step - loss: 7.1104e-04 - val_loss: 4.9602e-04\n",
      "Epoch 26/200\n",
      "2250/2250 [==============================] - 0s 161us/step - loss: 6.9126e-04 - val_loss: 4.7761e-04\n",
      "Epoch 27/200\n",
      "2250/2250 [==============================] - 0s 161us/step - loss: 6.7154e-04 - val_loss: 4.6135e-04\n",
      "Epoch 28/200\n",
      "2250/2250 [==============================] - 0s 159us/step - loss: 6.5328e-04 - val_loss: 4.4748e-04\n",
      "Epoch 29/200\n",
      "2250/2250 [==============================] - 0s 159us/step - loss: 6.3728e-04 - val_loss: 4.3588e-04\n",
      "Epoch 30/200\n",
      "2250/2250 [==============================] - 0s 158us/step - loss: 6.2383e-04 - val_loss: 4.2626e-04\n",
      "Epoch 31/200\n",
      "2250/2250 [==============================] - 0s 161us/step - loss: 6.1285e-04 - val_loss: 4.1829e-04\n",
      "Epoch 32/200\n",
      "2250/2250 [==============================] - 0s 160us/step - loss: 6.0411e-04 - val_loss: 4.1163e-04\n",
      "Epoch 33/200\n",
      "2250/2250 [==============================] - 0s 162us/step - loss: 5.9726e-04 - val_loss: 4.0598e-04\n",
      "Epoch 34/200\n",
      "2250/2250 [==============================] - 0s 162us/step - loss: 5.9193e-04 - val_loss: 4.0109e-04\n",
      "Epoch 35/200\n",
      "2250/2250 [==============================] - 0s 162us/step - loss: 5.8780e-04 - val_loss: 3.9677e-04\n",
      "Epoch 36/200\n",
      "2250/2250 [==============================] - 0s 159us/step - loss: 5.8457e-04 - val_loss: 3.9285e-04\n",
      "Epoch 37/200\n",
      "2250/2250 [==============================] - 0s 163us/step - loss: 5.8199e-04 - val_loss: 3.8922e-04\n",
      "Epoch 38/200\n",
      "2250/2250 [==============================] - 0s 165us/step - loss: 5.7988e-04 - val_loss: 3.8580e-04\n",
      "Epoch 39/200\n",
      "2250/2250 [==============================] - 0s 169us/step - loss: 5.7807e-04 - val_loss: 3.8251e-04\n",
      "Epoch 40/200\n",
      "2250/2250 [==============================] - 0s 165us/step - loss: 5.7648e-04 - val_loss: 3.7932e-04\n",
      "Epoch 41/200\n",
      "2250/2250 [==============================] - 0s 191us/step - loss: 5.7503e-04 - val_loss: 3.7618e-04\n",
      "Epoch 42/200\n",
      "2250/2250 [==============================] - 0s 211us/step - loss: 5.7367e-04 - val_loss: 3.7309e-04\n",
      "Epoch 43/200\n",
      "2250/2250 [==============================] - 0s 219us/step - loss: 5.7237e-04 - val_loss: 3.7002e-04\n",
      "Epoch 44/200\n",
      "2250/2250 [==============================] - 0s 222us/step - loss: 5.7113e-04 - val_loss: 3.6697e-04\n",
      "Epoch 45/200\n",
      "2250/2250 [==============================] - 1s 234us/step - loss: 5.6995e-04 - val_loss: 3.6393e-04\n",
      "Epoch 46/200\n",
      "2250/2250 [==============================] - 0s 212us/step - loss: 5.6882e-04 - val_loss: 3.6090e-04\n",
      "Epoch 47/200\n",
      "2250/2250 [==============================] - 0s 219us/step - loss: 5.6775e-04 - val_loss: 3.5788e-04\n",
      "Epoch 48/200\n",
      "2250/2250 [==============================] - 0s 214us/step - loss: 5.6674e-04 - val_loss: 3.5485e-04\n",
      "Epoch 49/200\n",
      "2250/2250 [==============================] - 1s 224us/step - loss: 5.6578e-04 - val_loss: 3.5182e-04\n",
      "Epoch 50/200\n",
      "2250/2250 [==============================] - 1s 226us/step - loss: 5.6488e-04 - val_loss: 3.4878e-04\n",
      "Epoch 51/200\n",
      "2250/2250 [==============================] - 1s 227us/step - loss: 5.6403e-04 - val_loss: 3.4573e-04\n",
      "Epoch 52/200\n",
      "2250/2250 [==============================] - 0s 220us/step - loss: 5.6322e-04 - val_loss: 3.4266e-04\n",
      "Epoch 53/200\n",
      "2250/2250 [==============================] - 0s 221us/step - loss: 5.6245e-04 - val_loss: 3.3958e-04\n",
      "Epoch 54/200\n",
      "2250/2250 [==============================] - 0s 218us/step - loss: 5.6171e-04 - val_loss: 3.3649e-04\n",
      "Epoch 55/200\n",
      "2250/2250 [==============================] - 0s 208us/step - loss: 5.6099e-04 - val_loss: 3.3338e-04\n",
      "Epoch 56/200\n",
      "2250/2250 [==============================] - 0s 210us/step - loss: 5.6029e-04 - val_loss: 3.3028e-04\n",
      "Epoch 57/200\n",
      "2250/2250 [==============================] - 0s 206us/step - loss: 5.5962e-04 - val_loss: 3.2718e-04\n",
      "Epoch 58/200\n",
      "2250/2250 [==============================] - 0s 202us/step - loss: 5.5899e-04 - val_loss: 3.2409e-04\n",
      "Epoch 59/200\n",
      "2250/2250 [==============================] - 0s 207us/step - loss: 5.5839e-04 - val_loss: 3.2104e-04\n",
      "Epoch 60/200\n",
      "2250/2250 [==============================] - 0s 210us/step - loss: 5.5785e-04 - val_loss: 3.1804e-04\n",
      "Epoch 61/200\n",
      "2250/2250 [==============================] - 0s 211us/step - loss: 5.5737e-04 - val_loss: 3.1510e-04\n",
      "Epoch 62/200\n",
      "2250/2250 [==============================] - 0s 207us/step - loss: 5.5699e-04 - val_loss: 3.1225e-04\n",
      "Epoch 63/200\n",
      "2250/2250 [==============================] - 0s 205us/step - loss: 5.5672e-04 - val_loss: 3.0950e-04\n",
      "Epoch 64/200\n",
      "2250/2250 [==============================] - 0s 210us/step - loss: 5.5658e-04 - val_loss: 3.0689e-04\n",
      "Epoch 65/200\n",
      "2250/2250 [==============================] - 1s 229us/step - loss: 5.5664e-04 - val_loss: 3.0443e-04\n",
      "Epoch 66/200\n",
      "2250/2250 [==============================] - 1s 224us/step - loss: 5.5692e-04 - val_loss: 3.0210e-04\n",
      "Epoch 67/200\n",
      "2250/2250 [==============================] - 0s 218us/step - loss: 5.5726e-04 - val_loss: 2.9980e-04\n",
      "Epoch 68/200\n",
      "2250/2250 [==============================] - 1s 231us/step - loss: 5.5700e-04 - val_loss: 2.9749e-04\n",
      "Epoch 69/200\n",
      "2250/2250 [==============================] - 0s 206us/step - loss: 5.5609e-04 - val_loss: 2.9573e-04\n",
      "Epoch 70/200\n",
      "2250/2250 [==============================] - 0s 207us/step - loss: 5.5972e-04 - val_loss: 2.9496e-04\n",
      "Epoch 71/200\n",
      "2250/2250 [==============================] - 0s 207us/step - loss: 5.6507e-04 - val_loss: 2.9270e-04\n",
      "Epoch 72/200\n",
      "2250/2250 [==============================] - 0s 206us/step - loss: 5.6261e-04 - val_loss: 2.9131e-04\n"
     ]
    },
    {
     "name": "stdout",
     "output_type": "stream",
     "text": [
      "Epoch 73/200\n",
      "2250/2250 [==============================] - 0s 204us/step - loss: 5.6078e-04 - val_loss: 2.9019e-04\n",
      "Epoch 74/200\n",
      "2250/2250 [==============================] - 0s 204us/step - loss: 5.5896e-04 - val_loss: 2.8944e-04\n",
      "Epoch 75/200\n",
      "2250/2250 [==============================] - 0s 202us/step - loss: 5.5769e-04 - val_loss: 2.8936e-04\n",
      "Epoch 76/200\n",
      "2250/2250 [==============================] - 0s 196us/step - loss: 5.5517e-04 - val_loss: 2.8932e-04\n",
      "Epoch 77/200\n",
      "2250/2250 [==============================] - 0s 200us/step - loss: 5.6182e-04 - val_loss: 2.8807e-04\n",
      "Epoch 78/200\n",
      "2250/2250 [==============================] - 0s 198us/step - loss: 5.6911e-04 - val_loss: 2.8947e-04\n",
      "Epoch 79/200\n",
      "2250/2250 [==============================] - 0s 198us/step - loss: 5.5880e-04 - val_loss: 2.8955e-04\n",
      "Epoch 80/200\n",
      "2250/2250 [==============================] - 0s 193us/step - loss: 5.5621e-04 - val_loss: 2.9038e-04\n",
      "Epoch 81/200\n",
      "2250/2250 [==============================] - 0s 198us/step - loss: 5.5516e-04 - val_loss: 2.8857e-04\n",
      "Epoch 82/200\n",
      "2250/2250 [==============================] - 0s 202us/step - loss: 5.5839e-04 - val_loss: 2.8874e-04\n",
      "Epoch 83/200\n",
      "2250/2250 [==============================] - 1s 236us/step - loss: 5.7670e-04 - val_loss: 2.9334e-04\n",
      "Epoch 84/200\n",
      "2250/2250 [==============================] - 1s 223us/step - loss: 6.0758e-04 - val_loss: 2.9949e-04\n",
      "Epoch 85/200\n",
      "2250/2250 [==============================] - 0s 212us/step - loss: 6.2734e-04 - val_loss: 3.0090e-04\n",
      "Epoch 86/200\n",
      "2250/2250 [==============================] - 0s 209us/step - loss: 6.3288e-04 - val_loss: 2.9894e-04\n",
      "Epoch 87/200\n",
      "2250/2250 [==============================] - 0s 211us/step - loss: 6.3616e-04 - val_loss: 2.9552e-04\n",
      "Epoch 88/200\n",
      "2250/2250 [==============================] - 1s 239us/step - loss: 6.3620e-04 - val_loss: 2.9186e-04\n",
      "Epoch 89/200\n",
      "2250/2250 [==============================] - 1s 222us/step - loss: 6.1896e-04 - val_loss: 2.9277e-04\n",
      "Epoch 90/200\n",
      "2250/2250 [==============================] - 1s 227us/step - loss: 6.0211e-04 - val_loss: 2.9233e-04\n",
      "Epoch 91/200\n",
      "2250/2250 [==============================] - 1s 225us/step - loss: 5.8120e-04 - val_loss: 2.9086e-04\n",
      "Epoch 92/200\n",
      "2250/2250 [==============================] - 0s 217us/step - loss: 5.9428e-04 - val_loss: 2.9316e-04\n",
      "Epoch 93/200\n",
      "2250/2250 [==============================] - 0s 220us/step - loss: 5.8481e-04 - val_loss: 2.9437e-04\n",
      "Epoch 94/200\n",
      "2250/2250 [==============================] - 0s 219us/step - loss: 5.7280e-04 - val_loss: 2.9177e-04\n",
      "Epoch 95/200\n",
      "2250/2250 [==============================] - 0s 212us/step - loss: 5.9319e-04 - val_loss: 2.9489e-04\n",
      "Epoch 96/200\n",
      "2250/2250 [==============================] - 0s 202us/step - loss: 5.9571e-04 - val_loss: 2.9928e-04\n",
      "Epoch 97/200\n",
      "2250/2250 [==============================] - 1s 223us/step - loss: 5.7998e-04 - val_loss: 2.9418e-04\n",
      "Epoch 98/200\n",
      "2250/2250 [==============================] - 0s 205us/step - loss: 5.7932e-04 - val_loss: 2.9442e-04\n",
      "Epoch 99/200\n",
      "2250/2250 [==============================] - 0s 214us/step - loss: 5.9713e-04 - val_loss: 3.0117e-04\n",
      "Epoch 100/200\n",
      "2250/2250 [==============================] - 0s 214us/step - loss: 5.9164e-04 - val_loss: 3.0172e-04\n",
      "Epoch 101/200\n",
      "2250/2250 [==============================] - 0s 209us/step - loss: 5.7899e-04 - val_loss: 3.0083e-04\n",
      "Epoch 102/200\n",
      "2250/2250 [==============================] - 1s 233us/step - loss: 5.8443e-04 - val_loss: 3.0541e-04\n",
      "Epoch 103/200\n",
      "2250/2250 [==============================] - 0s 216us/step - loss: 5.9029e-04 - val_loss: 3.2018e-04\n",
      "Epoch 104/200\n",
      "2250/2250 [==============================] - 0s 221us/step - loss: 5.6565e-04 - val_loss: 3.0945e-04\n",
      "Epoch 105/200\n",
      "2250/2250 [==============================] - 0s 215us/step - loss: 5.6920e-04 - val_loss: 2.9993e-04\n",
      "Epoch 106/200\n",
      "2250/2250 [==============================] - 0s 214us/step - loss: 6.0121e-04 - val_loss: 3.2014e-04\n",
      "Epoch 107/200\n",
      "2250/2250 [==============================] - 0s 211us/step - loss: 5.7928e-04 - val_loss: 3.3407e-04\n",
      "Epoch 108/200\n",
      "2250/2250 [==============================] - 0s 205us/step - loss: 5.7377e-04 - val_loss: 3.5119e-04\n",
      "Epoch 109/200\n",
      "2250/2250 [==============================] - 0s 207us/step - loss: 5.6007e-04 - val_loss: 3.6877e-04\n",
      "Epoch 110/200\n",
      "2250/2250 [==============================] - 1s 223us/step - loss: 5.4566e-04 - val_loss: 3.6419e-04\n",
      "Epoch 111/200\n",
      "2250/2250 [==============================] - 0s 210us/step - loss: 5.3298e-04 - val_loss: 3.5101e-04\n",
      "Epoch 112/200\n",
      "2250/2250 [==============================] - 0s 206us/step - loss: 5.4037e-04 - val_loss: 3.3979e-04\n",
      "Epoch 113/200\n",
      "2250/2250 [==============================] - 1s 223us/step - loss: 5.4622e-04 - val_loss: 3.3927e-04\n",
      "Epoch 114/200\n",
      "2250/2250 [==============================] - 0s 210us/step - loss: 5.4831e-04 - val_loss: 3.5470e-04\n",
      "Epoch 115/200\n",
      "2250/2250 [==============================] - 0s 214us/step - loss: 5.4812e-04 - val_loss: 3.7210e-04\n",
      "Epoch 116/200\n",
      "2250/2250 [==============================] - 0s 215us/step - loss: 5.3018e-04 - val_loss: 3.7946e-04\n",
      "Epoch 117/200\n",
      "2250/2250 [==============================] - 1s 224us/step - loss: 5.2561e-04 - val_loss: 3.7998e-04\n",
      "Epoch 118/200\n",
      "2250/2250 [==============================] - 0s 221us/step - loss: 5.1702e-04 - val_loss: 3.8211e-04\n",
      "Epoch 119/200\n",
      "2250/2250 [==============================] - 0s 212us/step - loss: 5.1235e-04 - val_loss: 3.7470e-04\n",
      "Epoch 120/200\n",
      "2250/2250 [==============================] - 1s 236us/step - loss: 5.0777e-04 - val_loss: 3.6548e-04\n",
      "Epoch 121/200\n",
      "2250/2250 [==============================] - 1s 228us/step - loss: 5.0767e-04 - val_loss: 3.4960e-04\n",
      "Epoch 122/200\n",
      "2250/2250 [==============================] - 0s 211us/step - loss: 5.1479e-04 - val_loss: 3.4407e-04\n",
      "Epoch 123/200\n",
      "2250/2250 [==============================] - 0s 210us/step - loss: 5.1801e-04 - val_loss: 3.4326e-04\n",
      "Epoch 124/200\n",
      "2250/2250 [==============================] - 0s 221us/step - loss: 5.2037e-04 - val_loss: 3.4947e-04\n",
      "Epoch 125/200\n",
      "2250/2250 [==============================] - 0s 210us/step - loss: 5.0974e-04 - val_loss: 3.3998e-04\n",
      "Epoch 126/200\n",
      "2250/2250 [==============================] - 1s 226us/step - loss: 5.1312e-04 - val_loss: 3.2341e-04\n",
      "Epoch 127/200\n",
      "2250/2250 [==============================] - 0s 216us/step - loss: 5.1806e-04 - val_loss: 3.1404e-04\n",
      "Epoch 128/200\n",
      "2250/2250 [==============================] - 0s 203us/step - loss: 5.2751e-04 - val_loss: 3.0451e-04\n",
      "Epoch 129/200\n",
      "2250/2250 [==============================] - 0s 209us/step - loss: 5.4169e-04 - val_loss: 3.0640e-04\n",
      "Epoch 130/200\n",
      "2250/2250 [==============================] - 0s 201us/step - loss: 5.4630e-04 - val_loss: 3.1863e-04\n",
      "Epoch 131/200\n",
      "2250/2250 [==============================] - 0s 203us/step - loss: 5.4380e-04 - val_loss: 3.1128e-04\n",
      "Epoch 132/200\n",
      "2250/2250 [==============================] - 0s 218us/step - loss: 5.3241e-04 - val_loss: 3.0209e-04\n",
      "Epoch 133/200\n",
      "2250/2250 [==============================] - 0s 221us/step - loss: 5.5099e-04 - val_loss: 3.0358e-04\n",
      "Epoch 134/200\n",
      "2250/2250 [==============================] - 0s 216us/step - loss: 5.5168e-04 - val_loss: 3.1332e-04\n",
      "Epoch 135/200\n",
      "2250/2250 [==============================] - 0s 213us/step - loss: 5.4434e-04 - val_loss: 3.3050e-04\n",
      "Epoch 136/200\n",
      "2250/2250 [==============================] - 1s 225us/step - loss: 5.3579e-04 - val_loss: 3.4496e-04\n",
      "Epoch 137/200\n",
      "2250/2250 [==============================] - 0s 219us/step - loss: 5.2309e-04 - val_loss: 3.4831e-04\n",
      "Epoch 138/200\n",
      "2250/2250 [==============================] - 1s 332us/step - loss: 5.1748e-04 - val_loss: 3.4761e-04\n",
      "Epoch 139/200\n",
      "2250/2250 [==============================] - 1s 281us/step - loss: 5.1288e-04 - val_loss: 3.3969e-04\n",
      "Epoch 140/200\n",
      "2250/2250 [==============================] - 1s 315us/step - loss: 5.1127e-04 - val_loss: 3.3798e-04\n",
      "Epoch 141/200\n",
      "2250/2250 [==============================] - 1s 270us/step - loss: 5.1322e-04 - val_loss: 3.2936e-04\n",
      "Epoch 142/200\n",
      "2250/2250 [==============================] - 0s 216us/step - loss: 5.0575e-04 - val_loss: 3.1885e-04\n",
      "Epoch 143/200\n",
      "2250/2250 [==============================] - 0s 221us/step - loss: 5.1961e-04 - val_loss: 3.1115e-04\n",
      "Epoch 144/200\n",
      "2250/2250 [==============================] - 0s 211us/step - loss: 5.2603e-04 - val_loss: 3.0791e-04\n",
      "Epoch 145/200\n",
      "2250/2250 [==============================] - 0s 212us/step - loss: 5.2592e-04 - val_loss: 3.0777e-04\n",
      "Epoch 146/200\n",
      "2250/2250 [==============================] - 1s 228us/step - loss: 5.3668e-04 - val_loss: 3.2182e-04\n",
      "Epoch 147/200\n",
      "2250/2250 [==============================] - 0s 212us/step - loss: 5.1361e-04 - val_loss: 3.0150e-04\n",
      "Epoch 148/200\n",
      "2250/2250 [==============================] - 0s 207us/step - loss: 5.3821e-04 - val_loss: 2.9641e-04\n",
      "Epoch 149/200\n",
      "2250/2250 [==============================] - 0s 221us/step - loss: 5.3855e-04 - val_loss: 3.1425e-04\n",
      "Epoch 150/200\n",
      "2250/2250 [==============================] - 0s 218us/step - loss: 5.3597e-04 - val_loss: 3.1352e-04\n",
      "Epoch 151/200\n",
      "2250/2250 [==============================] - 1s 235us/step - loss: 5.3226e-04 - val_loss: 3.1841e-04\n",
      "Epoch 152/200\n",
      "2250/2250 [==============================] - 1s 235us/step - loss: 5.3453e-04 - val_loss: 3.3104e-04\n",
      "Epoch 153/200\n",
      "2250/2250 [==============================] - 1s 226us/step - loss: 5.2603e-04 - val_loss: 3.4328e-04\n",
      "Epoch 154/200\n",
      "2250/2250 [==============================] - 0s 215us/step - loss: 5.1475e-04 - val_loss: 3.4097e-04\n",
      "Epoch 155/200\n",
      "2250/2250 [==============================] - 0s 207us/step - loss: 5.0921e-04 - val_loss: 3.3006e-04\n",
      "Epoch 156/200\n",
      "2250/2250 [==============================] - 0s 201us/step - loss: 5.1288e-04 - val_loss: 3.2392e-04\n",
      "Epoch 157/200\n",
      "2250/2250 [==============================] - 0s 209us/step - loss: 5.1463e-04 - val_loss: 3.2564e-04\n",
      "Epoch 158/200\n",
      "2250/2250 [==============================] - 0s 207us/step - loss: 5.1276e-04 - val_loss: 3.1975e-04\n",
      "Epoch 159/200\n",
      "2250/2250 [==============================] - 0s 208us/step - loss: 5.1193e-04 - val_loss: 3.1075e-04\n",
      "Epoch 160/200\n",
      "2250/2250 [==============================] - 0s 216us/step - loss: 5.1582e-04 - val_loss: 3.0289e-04\n",
      "Epoch 161/200\n",
      "2250/2250 [==============================] - 0s 210us/step - loss: 5.1912e-04 - val_loss: 2.9502e-04\n",
      "Epoch 162/200\n",
      "2250/2250 [==============================] - 1s 244us/step - loss: 5.2932e-04 - val_loss: 2.9881e-04\n",
      "Epoch 163/200\n",
      "2250/2250 [==============================] - 0s 213us/step - loss: 5.3137e-04 - val_loss: 3.0945e-04\n",
      "Epoch 164/200\n",
      "2250/2250 [==============================] - 0s 206us/step - loss: 5.3360e-04 - val_loss: 3.1945e-04\n",
      "Epoch 165/200\n",
      "2250/2250 [==============================] - 0s 211us/step - loss: 5.2445e-04 - val_loss: 3.2886e-04\n",
      "Epoch 166/200\n",
      "2250/2250 [==============================] - 0s 214us/step - loss: 5.2586e-04 - val_loss: 3.3244e-04\n",
      "Epoch 167/200\n",
      "2250/2250 [==============================] - 0s 207us/step - loss: 5.1555e-04 - val_loss: 3.2884e-04\n",
      "Epoch 168/200\n",
      "2250/2250 [==============================] - 0s 205us/step - loss: 5.2010e-04 - val_loss: 3.2391e-04\n",
      "Epoch 169/200\n",
      "2250/2250 [==============================] - 0s 212us/step - loss: 5.1881e-04 - val_loss: 3.2637e-04\n",
      "Epoch 170/200\n",
      "2250/2250 [==============================] - 1s 230us/step - loss: 5.2280e-04 - val_loss: 3.3154e-04\n",
      "Epoch 171/200\n",
      "2250/2250 [==============================] - 1s 233us/step - loss: 5.2174e-04 - val_loss: 3.3656e-04\n",
      "Epoch 172/200\n",
      "2250/2250 [==============================] - 1s 224us/step - loss: 5.2082e-04 - val_loss: 3.3542e-04\n",
      "Epoch 173/200\n",
      "2250/2250 [==============================] - 0s 207us/step - loss: 5.1197e-04 - val_loss: 3.2564e-04\n",
      "Epoch 174/200\n",
      "2250/2250 [==============================] - 0s 211us/step - loss: 5.1954e-04 - val_loss: 3.1561e-04\n",
      "Epoch 175/200\n",
      "2250/2250 [==============================] - 1s 243us/step - loss: 5.1468e-04 - val_loss: 3.1740e-04\n",
      "Epoch 176/200\n",
      "2250/2250 [==============================] - 0s 211us/step - loss: 5.2859e-04 - val_loss: 3.2096e-04\n",
      "Epoch 177/200\n",
      "2250/2250 [==============================] - 0s 215us/step - loss: 5.2612e-04 - val_loss: 3.2376e-04\n",
      "Epoch 178/200\n",
      "2250/2250 [==============================] - 0s 218us/step - loss: 5.2744e-04 - val_loss: 3.1466e-04\n",
      "Epoch 179/200\n",
      "2250/2250 [==============================] - 0s 207us/step - loss: 5.4271e-04 - val_loss: 3.3117e-04\n",
      "Epoch 180/200\n",
      "2250/2250 [==============================] - 0s 208us/step - loss: 5.3968e-04 - val_loss: 3.2908e-04\n",
      "Epoch 181/200\n",
      "2250/2250 [==============================] - 0s 208us/step - loss: 5.4808e-04 - val_loss: 3.4707e-04\n",
      "Epoch 182/200\n",
      "2250/2250 [==============================] - 1s 227us/step - loss: 5.5743e-04 - val_loss: 3.6763e-04\n",
      "Epoch 183/200\n",
      "2250/2250 [==============================] - 1s 254us/step - loss: 5.5073e-04 - val_loss: 3.8821e-04\n",
      "Epoch 184/200\n",
      "2250/2250 [==============================] - 0s 215us/step - loss: 5.5674e-04 - val_loss: 4.0707e-04\n",
      "Epoch 185/200\n",
      "2250/2250 [==============================] - 0s 212us/step - loss: 5.4293e-04 - val_loss: 3.9312e-04\n",
      "Epoch 186/200\n",
      "2250/2250 [==============================] - 1s 236us/step - loss: 5.5472e-04 - val_loss: 4.1059e-04\n",
      "Epoch 187/200\n",
      "2250/2250 [==============================] - 1s 248us/step - loss: 5.4880e-04 - val_loss: 4.0577e-04\n",
      "Epoch 188/200\n",
      "2250/2250 [==============================] - 0s 221us/step - loss: 5.6118e-04 - val_loss: 4.5924e-04\n",
      "Epoch 189/200\n",
      "2250/2250 [==============================] - 1s 224us/step - loss: 5.5242e-04 - val_loss: 4.4847e-04\n",
      "Epoch 190/200\n",
      "2250/2250 [==============================] - 1s 231us/step - loss: 5.5125e-04 - val_loss: 4.5306e-04\n",
      "Epoch 191/200\n",
      "2250/2250 [==============================] - 0s 212us/step - loss: 5.4718e-04 - val_loss: 4.3656e-04\n",
      "Epoch 192/200\n",
      "2250/2250 [==============================] - 0s 213us/step - loss: 5.5087e-04 - val_loss: 4.5712e-04\n",
      "Epoch 193/200\n",
      "2250/2250 [==============================] - 0s 210us/step - loss: 5.4818e-04 - val_loss: 4.4944e-04\n",
      "Epoch 194/200\n",
      "2250/2250 [==============================] - 1s 239us/step - loss: 5.4446e-04 - val_loss: 4.5960e-04\n",
      "Epoch 195/200\n",
      "2250/2250 [==============================] - 0s 212us/step - loss: 5.4625e-04 - val_loss: 4.4648e-04\n",
      "Epoch 196/200\n",
      "2250/2250 [==============================] - 0s 210us/step - loss: 5.4823e-04 - val_loss: 4.6737e-04\n",
      "Epoch 197/200\n",
      "2250/2250 [==============================] - 1s 223us/step - loss: 5.5295e-04 - val_loss: 4.8096e-04\n",
      "Epoch 198/200\n",
      "2250/2250 [==============================] - 0s 222us/step - loss: 5.5607e-04 - val_loss: 5.0045e-04\n",
      "Epoch 199/200\n",
      "2250/2250 [==============================] - 0s 211us/step - loss: 5.5224e-04 - val_loss: 4.8501e-04\n",
      "Epoch 200/200\n",
      "2250/2250 [==============================] - 0s 208us/step - loss: 5.5450e-04 - val_loss: 4.9773e-04\n"
     ]
    }
   ],
   "source": [
    "#Build the model\n",
    "model_gru = Sequential()\n",
    "model_gru.add(GRU(64,input_shape=(7,1)))\n",
    "model_gru.add(Dense(1))\n",
    "model_gru.compile(optimizer='adam',loss='mse')\n",
    "#Reshape data for (Sample,Timestep,Features) \n",
    "X_train = X_train.reshape((X_train.shape[0],X_train.shape[1],1))\n",
    "X_test = X_test.reshape((X_test.shape[0],X_test.shape[1],1))\n",
    "#Fit model with history to check for overfitting\n",
    "history_gru = model_gru.fit(X_train,y_train,epochs=200,validation_data=(X_test,y_test),shuffle=False,callbacks=[time_callback])"
   ]
  },
  {
   "cell_type": "code",
   "execution_count": 109,
   "metadata": {},
   "outputs": [],
   "source": [
    "training_time_gru = time_callback.times"
   ]
  },
  {
   "cell_type": "code",
   "execution_count": 110,
   "metadata": {},
   "outputs": [
    {
     "data": {
      "text/plain": [
       "94.15459108352661"
      ]
     },
     "execution_count": 110,
     "metadata": {},
     "output_type": "execute_result"
    }
   ],
   "source": [
    "sum(training_time_gru)"
   ]
  },
  {
   "cell_type": "code",
   "execution_count": 119,
   "metadata": {},
   "outputs": [
    {
     "data": {
      "image/png": "[encoded data removed]",
      "text/plain": [
       "<Figure size 720x576 with 1 Axes>"
      ]
     },
     "metadata": {
      "needs_background": "light"
     },
     "output_type": "display_data"
    }
   ],
   "source": [
    "plt.figure(figsize = (10,8))\n",
    "plt.plot(history_gru.history['loss'])\n",
    "plt.plot(history_gru.history['val_loss'])\n",
    "plt.title('GRU')\n",
    "plt.show()"
   ]
  },
  {
   "cell_type": "code",
   "execution_count": 112,
   "metadata": {},
   "outputs": [],
   "source": [
    "Xt_gru = model_gru.predict(X_test)"
   ]
  },
  {
   "cell_type": "code",
   "execution_count": 113,
   "metadata": {},
   "outputs": [],
   "source": [
    "closing_price_gru=scl.inverse_transform(Xt_gru)"
   ]
  },
  {
   "cell_type": "code",
   "execution_count": 114,
   "metadata": {},
   "outputs": [
    {
     "data": {
      "text/plain": [
       "169.94452390005952"
      ]
     },
     "execution_count": 114,
     "metadata": {},
     "output_type": "execute_result"
    }
   ],
   "source": [
    "rms_gru=np.sqrt(np.mean(np.power((valid-closing_price_gru),2)))\n",
    "rms_gru"
   ]
  },
  {
   "cell_type": "code",
   "execution_count": 115,
   "metadata": {},
   "outputs": [
    {
     "data": {
      "text/plain": [
       "138.4725017202149"
      ]
     },
     "execution_count": 115,
     "metadata": {},
     "output_type": "execute_result"
    }
   ],
   "source": [
    "from sklearn.metrics import mean_absolute_error\n",
    "mean_absolute_error(valid,closing_price_gru)"
   ]
  },
  {
   "cell_type": "code",
   "execution_count": 116,
   "metadata": {},
   "outputs": [
    {
     "data": {
      "text/plain": [
       "0.9708477318432339"
      ]
     },
     "execution_count": 116,
     "metadata": {},
     "output_type": "execute_result"
    }
   ],
   "source": [
    "from sklearn.metrics import r2_score\n",
    "r2_score(valid,closing_price_gru)"
   ]
  }
 ],
 "metadata": {
  "kernelspec": {
   "display_name": "Python 3.6 (tensorflow)",
   "language": "python",
   "name": "tensorflow"
  },
  "language_info": {
   "codemirror_mode": {
    "name": "ipython",
    "version": 3
   },
   "file_extension": ".py",
   "mimetype": "text/x-python",
   "name": "python",
   "nbconvert_exporter": "python",
   "pygments_lexer": "ipython3",
   "version": "3.6.9"
  }
 },
 "nbformat": 4,
 "nbformat_minor": 2
}
